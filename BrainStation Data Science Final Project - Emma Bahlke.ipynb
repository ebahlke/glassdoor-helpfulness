{
 "cells": [
  {
   "cell_type": "markdown",
   "metadata": {},
   "source": [
    "# BrainStation Data Science Final Project - Emma Bahlke\n",
    "## Helpfulness of Glassdoor Reviews\n",
    "### March 19, 2019"
   ]
  },
  {
   "cell_type": "markdown",
   "metadata": {},
   "source": [
    "## Outline\n",
    "1. Data Import & Overview\n",
    "2. Data Cleaning\n",
    "3. Potential Hypotheses\n",
    "4. Data Visualization & Initial Insights\n",
    "5. Modeling & Validation\n",
    "6. Conclusions"
   ]
  },
  {
   "cell_type": "markdown",
   "metadata": {},
   "source": [
    "## 1. Data Import & Overview\n",
    "\n",
    "The dataset I chose was a set of approximately 67,000 Glassdoor reviews for major tech companies (Google, Apple, Facebook, etc.), sourced from [Kaggle](https://www.kaggle.com/petersunga/google-amazon-facebook-employee-reviews).  The dataset contains information on the company and location, the date of the review, the person's job title, as well as all of the review text data (summary, pros, cons, and advice to management) and star-out-of-five ratings (overall, work balance, career opportunities, etc.).  Finally, it includes the number of times each review was voted to be helpful.\n",
    "\n",
    "In the course of this notebook, I will largely be ignoring the company and job title.  It's that last data point (helpfulness of the review) in which I'm interested, moreso than trends in employee satisfaction across different companies or job types.  Fundamentally, I'm hoping to explore the question: what makes a Glassdoor review helpful?"
   ]
  },
  {
   "cell_type": "code",
   "execution_count": 1,
   "metadata": {
    "scrolled": false
   },
   "outputs": [
    {
     "data": {
      "text/html": [
       "<div>\n",
       "<style scoped>\n",
       "    .dataframe tbody tr th:only-of-type {\n",
       "        vertical-align: middle;\n",
       "    }\n",
       "\n",
       "    .dataframe tbody tr th {\n",
       "        vertical-align: top;\n",
       "    }\n",
       "\n",
       "    .dataframe thead th {\n",
       "        text-align: right;\n",
       "    }\n",
       "</style>\n",
       "<table border=\"1\" class=\"dataframe\">\n",
       "  <thead>\n",
       "    <tr style=\"text-align: right;\">\n",
       "      <th></th>\n",
       "      <th>company</th>\n",
       "      <th>location</th>\n",
       "      <th>dates</th>\n",
       "      <th>job-title</th>\n",
       "      <th>summary</th>\n",
       "      <th>pros</th>\n",
       "      <th>cons</th>\n",
       "      <th>advice-to-mgmt</th>\n",
       "      <th>overall-ratings</th>\n",
       "      <th>work-balance-stars</th>\n",
       "      <th>culture-values-stars</th>\n",
       "      <th>carrer-opportunities-stars</th>\n",
       "      <th>comp-benefit-stars</th>\n",
       "      <th>senior-mangemnet-stars</th>\n",
       "      <th>helpful-count</th>\n",
       "      <th>link</th>\n",
       "    </tr>\n",
       "  </thead>\n",
       "  <tbody>\n",
       "    <tr>\n",
       "      <th>1</th>\n",
       "      <td>google</td>\n",
       "      <td>none</td>\n",
       "      <td>Dec 11, 2018</td>\n",
       "      <td>Current Employee - Anonymous Employee</td>\n",
       "      <td>Best Company to work for</td>\n",
       "      <td>People are smart and friendly</td>\n",
       "      <td>Bureaucracy is slowing things down</td>\n",
       "      <td>none</td>\n",
       "      <td>5.0</td>\n",
       "      <td>4.0</td>\n",
       "      <td>5.0</td>\n",
       "      <td>5.0</td>\n",
       "      <td>4.0</td>\n",
       "      <td>5.0</td>\n",
       "      <td>0</td>\n",
       "      <td>https://www.glassdoor.com/Reviews/Google-Revie...</td>\n",
       "    </tr>\n",
       "    <tr>\n",
       "      <th>2</th>\n",
       "      <td>google</td>\n",
       "      <td>Mountain View, CA</td>\n",
       "      <td>Jun 21, 2013</td>\n",
       "      <td>Former Employee - Program Manager</td>\n",
       "      <td>Moving at the speed of light, burn out is inev...</td>\n",
       "      <td>1) Food, food, food. 15+ cafes on main campus ...</td>\n",
       "      <td>1) Work/life balance. What balance? All those ...</td>\n",
       "      <td>1) Don't dismiss emotional intelligence and ad...</td>\n",
       "      <td>4.0</td>\n",
       "      <td>2.0</td>\n",
       "      <td>3.0</td>\n",
       "      <td>3.0</td>\n",
       "      <td>5.0</td>\n",
       "      <td>3.0</td>\n",
       "      <td>2094</td>\n",
       "      <td>https://www.glassdoor.com/Reviews/Google-Revie...</td>\n",
       "    </tr>\n",
       "    <tr>\n",
       "      <th>3</th>\n",
       "      <td>google</td>\n",
       "      <td>New York, NY</td>\n",
       "      <td>May 10, 2014</td>\n",
       "      <td>Current Employee - Software Engineer III</td>\n",
       "      <td>Great balance between big-company security and...</td>\n",
       "      <td>* If you're a software engineer, you're among ...</td>\n",
       "      <td>* It *is* becoming larger, and with it comes g...</td>\n",
       "      <td>Keep the focus on the user. Everything else wi...</td>\n",
       "      <td>5.0</td>\n",
       "      <td>5.0</td>\n",
       "      <td>4.0</td>\n",
       "      <td>5.0</td>\n",
       "      <td>5.0</td>\n",
       "      <td>4.0</td>\n",
       "      <td>949</td>\n",
       "      <td>https://www.glassdoor.com/Reviews/Google-Revie...</td>\n",
       "    </tr>\n",
       "    <tr>\n",
       "      <th>4</th>\n",
       "      <td>google</td>\n",
       "      <td>Mountain View, CA</td>\n",
       "      <td>Feb 8, 2015</td>\n",
       "      <td>Current Employee - Anonymous Employee</td>\n",
       "      <td>The best place I've worked and also the most d...</td>\n",
       "      <td>You can't find a more well-regarded company th...</td>\n",
       "      <td>I live in SF so the commute can take between 1...</td>\n",
       "      <td>Keep on NOT micromanaging - that is a huge ben...</td>\n",
       "      <td>5.0</td>\n",
       "      <td>2.0</td>\n",
       "      <td>5.0</td>\n",
       "      <td>5.0</td>\n",
       "      <td>4.0</td>\n",
       "      <td>5.0</td>\n",
       "      <td>498</td>\n",
       "      <td>https://www.glassdoor.com/Reviews/Google-Revie...</td>\n",
       "    </tr>\n",
       "    <tr>\n",
       "      <th>5</th>\n",
       "      <td>google</td>\n",
       "      <td>Los Angeles, CA</td>\n",
       "      <td>Jul 19, 2018</td>\n",
       "      <td>Former Employee - Software Engineer</td>\n",
       "      <td>Unique, one of a kind dream job</td>\n",
       "      <td>Google is a world of its own. At every other c...</td>\n",
       "      <td>If you don't work in MTV (HQ), you will be giv...</td>\n",
       "      <td>Promote managers into management for their man...</td>\n",
       "      <td>5.0</td>\n",
       "      <td>5.0</td>\n",
       "      <td>5.0</td>\n",
       "      <td>5.0</td>\n",
       "      <td>5.0</td>\n",
       "      <td>5.0</td>\n",
       "      <td>49</td>\n",
       "      <td>https://www.glassdoor.com/Reviews/Google-Revie...</td>\n",
       "    </tr>\n",
       "  </tbody>\n",
       "</table>\n",
       "</div>"
      ],
      "text/plain": [
       "  company           location          dates  \\\n",
       "1  google               none   Dec 11, 2018   \n",
       "2  google  Mountain View, CA   Jun 21, 2013   \n",
       "3  google       New York, NY   May 10, 2014   \n",
       "4  google  Mountain View, CA    Feb 8, 2015   \n",
       "5  google    Los Angeles, CA   Jul 19, 2018   \n",
       "\n",
       "                                  job-title  \\\n",
       "1     Current Employee - Anonymous Employee   \n",
       "2         Former Employee - Program Manager   \n",
       "3  Current Employee - Software Engineer III   \n",
       "4     Current Employee - Anonymous Employee   \n",
       "5       Former Employee - Software Engineer   \n",
       "\n",
       "                                             summary  \\\n",
       "1                           Best Company to work for   \n",
       "2  Moving at the speed of light, burn out is inev...   \n",
       "3  Great balance between big-company security and...   \n",
       "4  The best place I've worked and also the most d...   \n",
       "5                    Unique, one of a kind dream job   \n",
       "\n",
       "                                                pros  \\\n",
       "1                      People are smart and friendly   \n",
       "2  1) Food, food, food. 15+ cafes on main campus ...   \n",
       "3  * If you're a software engineer, you're among ...   \n",
       "4  You can't find a more well-regarded company th...   \n",
       "5  Google is a world of its own. At every other c...   \n",
       "\n",
       "                                                cons  \\\n",
       "1                 Bureaucracy is slowing things down   \n",
       "2  1) Work/life balance. What balance? All those ...   \n",
       "3  * It *is* becoming larger, and with it comes g...   \n",
       "4  I live in SF so the commute can take between 1...   \n",
       "5  If you don't work in MTV (HQ), you will be giv...   \n",
       "\n",
       "                                      advice-to-mgmt  overall-ratings  \\\n",
       "1                                               none              5.0   \n",
       "2  1) Don't dismiss emotional intelligence and ad...              4.0   \n",
       "3  Keep the focus on the user. Everything else wi...              5.0   \n",
       "4  Keep on NOT micromanaging - that is a huge ben...              5.0   \n",
       "5  Promote managers into management for their man...              5.0   \n",
       "\n",
       "  work-balance-stars culture-values-stars carrer-opportunities-stars  \\\n",
       "1                4.0                  5.0                        5.0   \n",
       "2                2.0                  3.0                        3.0   \n",
       "3                5.0                  4.0                        5.0   \n",
       "4                2.0                  5.0                        5.0   \n",
       "5                5.0                  5.0                        5.0   \n",
       "\n",
       "  comp-benefit-stars senior-mangemnet-stars  helpful-count  \\\n",
       "1                4.0                    5.0              0   \n",
       "2                5.0                    3.0           2094   \n",
       "3                5.0                    4.0            949   \n",
       "4                4.0                    5.0            498   \n",
       "5                5.0                    5.0             49   \n",
       "\n",
       "                                                link  \n",
       "1  https://www.glassdoor.com/Reviews/Google-Revie...  \n",
       "2  https://www.glassdoor.com/Reviews/Google-Revie...  \n",
       "3  https://www.glassdoor.com/Reviews/Google-Revie...  \n",
       "4  https://www.glassdoor.com/Reviews/Google-Revie...  \n",
       "5  https://www.glassdoor.com/Reviews/Google-Revie...  "
      ]
     },
     "execution_count": 1,
     "metadata": {},
     "output_type": "execute_result"
    }
   ],
   "source": [
    "import pandas\n",
    "import numpy\n",
    "import seaborn\n",
    "import matplotlib.pyplot as plt\n",
    "\n",
    "data = pandas.read_csv('employee_reviews.csv', index_col=0, parse_dates=[2])\n",
    "data.head()"
   ]
  },
  {
   "cell_type": "code",
   "execution_count": 2,
   "metadata": {
    "scrolled": true
   },
   "outputs": [
    {
     "data": {
      "text/plain": [
       "company                        object\n",
       "location                       object\n",
       "dates                          object\n",
       "job-title                      object\n",
       "summary                        object\n",
       "pros                           object\n",
       "cons                           object\n",
       "advice-to-mgmt                 object\n",
       "overall-ratings               float64\n",
       "work-balance-stars             object\n",
       "culture-values-stars           object\n",
       "carrer-opportunities-stars     object\n",
       "comp-benefit-stars             object\n",
       "senior-mangemnet-stars         object\n",
       "helpful-count                   int64\n",
       "link                           object\n",
       "dtype: object"
      ]
     },
     "execution_count": 2,
     "metadata": {},
     "output_type": "execute_result"
    }
   ],
   "source": [
    "data.dtypes"
   ]
  },
  {
   "cell_type": "markdown",
   "metadata": {},
   "source": [
    "Immediately, we see a number of issues with the data that will have to be cleaned up: except for \"overall-ratings\", all of the \"-stars\" values are object, not float, and a number of the columns are grossly misspelled (carrer-opportunities, senior-mangemnet).\n",
    "\n",
    "Note also that parse_dates doesn't seem to be working and the 'dates' column is still being parsed as an object.  I'm going to disregard this for now since I don't intend to use the dates column in my analysis.\n",
    "\n",
    "Before we get to full data cleaning, let's see if there are any obvious outliers in the overall-ratings or helpful-count:"
   ]
  },
  {
   "cell_type": "code",
   "execution_count": 3,
   "metadata": {
    "scrolled": false
   },
   "outputs": [
    {
     "data": {
      "text/html": [
       "<div>\n",
       "<style scoped>\n",
       "    .dataframe tbody tr th:only-of-type {\n",
       "        vertical-align: middle;\n",
       "    }\n",
       "\n",
       "    .dataframe tbody tr th {\n",
       "        vertical-align: top;\n",
       "    }\n",
       "\n",
       "    .dataframe thead th {\n",
       "        text-align: right;\n",
       "    }\n",
       "</style>\n",
       "<table border=\"1\" class=\"dataframe\">\n",
       "  <thead>\n",
       "    <tr style=\"text-align: right;\">\n",
       "      <th></th>\n",
       "      <th>overall-ratings</th>\n",
       "      <th>helpful-count</th>\n",
       "    </tr>\n",
       "  </thead>\n",
       "  <tbody>\n",
       "    <tr>\n",
       "      <th>count</th>\n",
       "      <td>67529.000000</td>\n",
       "      <td>67529.000000</td>\n",
       "    </tr>\n",
       "    <tr>\n",
       "      <th>mean</th>\n",
       "      <td>3.826075</td>\n",
       "      <td>1.268211</td>\n",
       "    </tr>\n",
       "    <tr>\n",
       "      <th>std</th>\n",
       "      <td>1.154989</td>\n",
       "      <td>16.085852</td>\n",
       "    </tr>\n",
       "    <tr>\n",
       "      <th>min</th>\n",
       "      <td>1.000000</td>\n",
       "      <td>0.000000</td>\n",
       "    </tr>\n",
       "    <tr>\n",
       "      <th>25%</th>\n",
       "      <td>3.000000</td>\n",
       "      <td>0.000000</td>\n",
       "    </tr>\n",
       "    <tr>\n",
       "      <th>50%</th>\n",
       "      <td>4.000000</td>\n",
       "      <td>0.000000</td>\n",
       "    </tr>\n",
       "    <tr>\n",
       "      <th>75%</th>\n",
       "      <td>5.000000</td>\n",
       "      <td>1.000000</td>\n",
       "    </tr>\n",
       "    <tr>\n",
       "      <th>max</th>\n",
       "      <td>5.000000</td>\n",
       "      <td>2094.000000</td>\n",
       "    </tr>\n",
       "  </tbody>\n",
       "</table>\n",
       "</div>"
      ],
      "text/plain": [
       "       overall-ratings  helpful-count\n",
       "count     67529.000000   67529.000000\n",
       "mean          3.826075       1.268211\n",
       "std           1.154989      16.085852\n",
       "min           1.000000       0.000000\n",
       "25%           3.000000       0.000000\n",
       "50%           4.000000       0.000000\n",
       "75%           5.000000       1.000000\n",
       "max           5.000000    2094.000000"
      ]
     },
     "execution_count": 3,
     "metadata": {},
     "output_type": "execute_result"
    }
   ],
   "source": [
    "data.describe()"
   ]
  },
  {
   "cell_type": "markdown",
   "metadata": {},
   "source": [
    "Luckily, this doesn't seem to be the case - there are no rows with e.g. a negative helpful-count, overall-ratings greater than 5, etc.  But we'll do some double-checking in the next section.\n",
    "\n",
    "Finally, let's familiarize ourselves with the distribution of the data per star rating:"
   ]
  },
  {
   "cell_type": "code",
   "execution_count": 4,
   "metadata": {
    "scrolled": false
   },
   "outputs": [
    {
     "data": {
      "text/plain": [
       "<seaborn.axisgrid.FacetGrid at 0x10f241240>"
      ]
     },
     "execution_count": 4,
     "metadata": {},
     "output_type": "execute_result"
    },
    {
     "data": {
      "image/png": "[encoded data removed]",
      "text/plain": [
       "<Figure size 360x360 with 1 Axes>"
      ]
     },
     "metadata": {
      "needs_background": "light"
     },
     "output_type": "display_data"
    }
   ],
   "source": [
    "seaborn.catplot(data=data, x='overall-ratings', kind = 'count')"
   ]
  },
  {
   "cell_type": "markdown",
   "metadata": {},
   "source": [
    "It seems the Glassdoor reviews are pretty overwhelmingly positive, with less than 20% falling into the 1 or 2 star category.  Just for fun, how do the different companies stack up?"
   ]
  },
  {
   "cell_type": "code",
   "execution_count": 5,
   "metadata": {},
   "outputs": [
    {
     "data": {
      "text/plain": [
       "<seaborn.axisgrid.FacetGrid at 0x1a2157b278>"
      ]
     },
     "execution_count": 5,
     "metadata": {},
     "output_type": "execute_result"
    },
    {
     "data": {
      "image/png": "[encoded data removed]",
      "text/plain": [
       "<Figure size 442.875x360 with 1 Axes>"
      ]
     },
     "metadata": {
      "needs_background": "light"
     },
     "output_type": "display_data"
    }
   ],
   "source": [
    "seaborn.catplot(data=data, x='overall-ratings', kind='count', hue='company')"
   ]
  },
  {
   "cell_type": "markdown",
   "metadata": {},
   "source": [
    "## 2. Data Cleaning\n",
    "\n",
    "We'll start with some basic column cleanup:"
   ]
  },
  {
   "cell_type": "code",
   "execution_count": 6,
   "metadata": {},
   "outputs": [
    {
     "data": {
      "text/plain": [
       "company                        object\n",
       "location                       object\n",
       "dates                          object\n",
       "job-title                      object\n",
       "summary                        object\n",
       "pros                           object\n",
       "cons                           object\n",
       "advice-to-mgmt                 object\n",
       "overall-ratings               float64\n",
       "work-balance-stars            float64\n",
       "culture-values-stars          float64\n",
       "career-opportunities-stars    float64\n",
       "comp-benefit-stars            float64\n",
       "senior-management-stars       float64\n",
       "helpful-count                   int64\n",
       "link                           object\n",
       "dtype: object"
      ]
     },
     "execution_count": 6,
     "metadata": {},
     "output_type": "execute_result"
    }
   ],
   "source": [
    "data = data.rename(columns={'carrer-opportunities-stars': 'career-opportunities-stars',\n",
    "                           'senior-mangemnet-stars': 'senior-management-stars'})\n",
    "data['work-balance-stars'] = pandas.to_numeric(data['work-balance-stars'], errors='coerce')\n",
    "data['culture-values-stars'] = pandas.to_numeric(data['culture-values-stars'], errors='coerce')\n",
    "data['career-opportunities-stars'] = pandas.to_numeric(data['career-opportunities-stars'], errors='coerce')\n",
    "data['comp-benefit-stars'] = pandas.to_numeric(data['comp-benefit-stars'], errors='coerce')\n",
    "data['senior-management-stars'] = pandas.to_numeric(data['senior-management-stars'], errors='coerce')\n",
    "\n",
    "data.dtypes"
   ]
  },
  {
   "cell_type": "markdown",
   "metadata": {},
   "source": [
    "While cleaning the data, I discovered that the specific \"-stars\" values were read in as objects initially because they are optional fields in Glassdoor, and the original data rows had a mix of numerical values and the string \"none\".  Now, any review where the specific \"-stars\" were not provided should have a value of NaN and the entire column is a (nullable) float64.\n",
    "\n",
    "Let's check exactly how many reviews have specific star values for the various subsections:"
   ]
  },
  {
   "cell_type": "code",
   "execution_count": 7,
   "metadata": {},
   "outputs": [
    {
     "name": "stdout",
     "output_type": "stream",
     "text": [
      "% provided work balance stars: 89.4\n",
      "% provided culture values stars: 79.94\n",
      "% provided career opportunities stars: 89.47\n",
      "% provided comp benefits stars: 89.4\n",
      "% provided senior management stars: 88.49\n",
      "\n",
      "Visualization:\n"
     ]
    },
    {
     "data": {
      "text/plain": [
       "<matplotlib.axes._subplots.AxesSubplot at 0x1a21783908>"
      ]
     },
     "execution_count": 7,
     "metadata": {},
     "output_type": "execute_result"
    },
    {
     "data": {
      "image/png": "[encoded data removed]",
      "text/plain": [
       "<Figure size 432x288 with 1 Axes>"
      ]
     },
     "metadata": {
      "needs_background": "light"
     },
     "output_type": "display_data"
    }
   ],
   "source": [
    "total_rows = len(data)\n",
    "percent_wb_stars = 100 - round(pandas.isna(data['work-balance-stars']).sum()/total_rows * 100, 2)\n",
    "percent_cv_stars = 100 - round(pandas.isna(data['culture-values-stars']).sum()/total_rows * 100, 2)\n",
    "percent_co_stars = 100 - round(pandas.isna(data['career-opportunities-stars']).sum()/total_rows * 100, 2)\n",
    "percent_cb_stars = 100 - round(pandas.isna(data['comp-benefit-stars']).sum()/total_rows * 100, 2)\n",
    "percent_sm_stars = 100 - round(pandas.isna(data['senior-management-stars']).sum()/total_rows * 100, 2)\n",
    "\n",
    "print('% provided work balance stars: {}'.format(percent_wb_stars))\n",
    "print('% provided culture values stars: {}'.format(percent_cv_stars))\n",
    "print('% provided career opportunities stars: {}'.format(percent_co_stars))\n",
    "print('% provided comp benefits stars: {}'.format(percent_cb_stars))\n",
    "print('% provided senior management stars: {}'.format(percent_sm_stars))\n",
    "print('\\nVisualization:')\n",
    "\n",
    "all_percentages = pandas.DataFrame(data = {'Stars': ['Work balance', 'Culture values', 'Career opportunities', 'Comp benefits', 'Senior management'],\n",
    "                                           '% provided': [percent_wb_stars, percent_cv_stars, percent_co_stars, percent_cb_stars, percent_sm_stars]})\n",
    "\n",
    "seaborn.barplot(x=\"% provided\", y=\"Stars\", data=all_percentages)"
   ]
  },
  {
   "cell_type": "markdown",
   "metadata": {},
   "source": [
    "So we can see that the vast majority of our data has stars for each sub-category.\n",
    "\n",
    "Let's also make sure there are no NaN values in overall-ratings or helpful-count:"
   ]
  },
  {
   "cell_type": "code",
   "execution_count": 8,
   "metadata": {},
   "outputs": [
    {
     "data": {
      "text/plain": [
       "0"
      ]
     },
     "execution_count": 8,
     "metadata": {},
     "output_type": "execute_result"
    }
   ],
   "source": [
    "pandas.isna(data['overall-ratings']).sum()"
   ]
  },
  {
   "cell_type": "code",
   "execution_count": 9,
   "metadata": {},
   "outputs": [
    {
     "data": {
      "text/plain": [
       "0"
      ]
     },
     "execution_count": 9,
     "metadata": {},
     "output_type": "execute_result"
    }
   ],
   "source": [
    "pandas.isna(data['helpful-count']).sum()"
   ]
  },
  {
   "cell_type": "markdown",
   "metadata": {},
   "source": [
    "The last thing I want to check is if there are any obvious outliers in helpful-count:"
   ]
  },
  {
   "cell_type": "code",
   "execution_count": 10,
   "metadata": {},
   "outputs": [
    {
     "data": {
      "text/plain": [
       "<matplotlib.axes._subplots.AxesSubplot at 0x1a2169c710>"
      ]
     },
     "execution_count": 10,
     "metadata": {},
     "output_type": "execute_result"
    },
    {
     "data": {
      "image/png": "[encoded data removed]",
      "text/plain": [
       "<Figure size 432x288 with 1 Axes>"
      ]
     },
     "metadata": {
      "needs_background": "light"
     },
     "output_type": "display_data"
    }
   ],
   "source": [
    "data[['helpful-count']].plot()"
   ]
  },
  {
   "cell_type": "markdown",
   "metadata": {},
   "source": [
    "Here we do see about four or five datapoints that look like potential spikes.  They might still be valid and just represent particularly stellar Glassdoor reviews - but it's worth checking up on.  The helpful-count mean is about 1.26, which is going to be much too low to distinguish \"highly helpful reviews\", but on a rough visual inspection, a good lower bound would be about 450:"
   ]
  },
  {
   "cell_type": "code",
   "execution_count": 11,
   "metadata": {
    "scrolled": false
   },
   "outputs": [
    {
     "name": "stdout",
     "output_type": "stream",
     "text": [
      "There are 10 highly helpful reviews:\n"
     ]
    },
    {
     "data": {
      "text/html": [
       "<div>\n",
       "<style scoped>\n",
       "    .dataframe tbody tr th:only-of-type {\n",
       "        vertical-align: middle;\n",
       "    }\n",
       "\n",
       "    .dataframe tbody tr th {\n",
       "        vertical-align: top;\n",
       "    }\n",
       "\n",
       "    .dataframe thead th {\n",
       "        text-align: right;\n",
       "    }\n",
       "</style>\n",
       "<table border=\"1\" class=\"dataframe\">\n",
       "  <thead>\n",
       "    <tr style=\"text-align: right;\">\n",
       "      <th></th>\n",
       "      <th>company</th>\n",
       "      <th>location</th>\n",
       "      <th>dates</th>\n",
       "      <th>job-title</th>\n",
       "      <th>summary</th>\n",
       "      <th>pros</th>\n",
       "      <th>cons</th>\n",
       "      <th>advice-to-mgmt</th>\n",
       "      <th>overall-ratings</th>\n",
       "      <th>work-balance-stars</th>\n",
       "      <th>culture-values-stars</th>\n",
       "      <th>career-opportunities-stars</th>\n",
       "      <th>comp-benefit-stars</th>\n",
       "      <th>senior-management-stars</th>\n",
       "      <th>helpful-count</th>\n",
       "      <th>link</th>\n",
       "    </tr>\n",
       "  </thead>\n",
       "  <tbody>\n",
       "    <tr>\n",
       "      <th>2</th>\n",
       "      <td>google</td>\n",
       "      <td>Mountain View, CA</td>\n",
       "      <td>Jun 21, 2013</td>\n",
       "      <td>Former Employee - Program Manager</td>\n",
       "      <td>Moving at the speed of light, burn out is inev...</td>\n",
       "      <td>1) Food, food, food. 15+ cafes on main campus ...</td>\n",
       "      <td>1) Work/life balance. What balance? All those ...</td>\n",
       "      <td>1) Don't dismiss emotional intelligence and ad...</td>\n",
       "      <td>4.0</td>\n",
       "      <td>2.0</td>\n",
       "      <td>3.0</td>\n",
       "      <td>3.0</td>\n",
       "      <td>5.0</td>\n",
       "      <td>3.0</td>\n",
       "      <td>2094</td>\n",
       "      <td>https://www.glassdoor.com/Reviews/Google-Revie...</td>\n",
       "    </tr>\n",
       "    <tr>\n",
       "      <th>3</th>\n",
       "      <td>google</td>\n",
       "      <td>New York, NY</td>\n",
       "      <td>May 10, 2014</td>\n",
       "      <td>Current Employee - Software Engineer III</td>\n",
       "      <td>Great balance between big-company security and...</td>\n",
       "      <td>* If you're a software engineer, you're among ...</td>\n",
       "      <td>* It *is* becoming larger, and with it comes g...</td>\n",
       "      <td>Keep the focus on the user. Everything else wi...</td>\n",
       "      <td>5.0</td>\n",
       "      <td>5.0</td>\n",
       "      <td>4.0</td>\n",
       "      <td>5.0</td>\n",
       "      <td>5.0</td>\n",
       "      <td>4.0</td>\n",
       "      <td>949</td>\n",
       "      <td>https://www.glassdoor.com/Reviews/Google-Revie...</td>\n",
       "    </tr>\n",
       "    <tr>\n",
       "      <th>4</th>\n",
       "      <td>google</td>\n",
       "      <td>Mountain View, CA</td>\n",
       "      <td>Feb 8, 2015</td>\n",
       "      <td>Current Employee - Anonymous Employee</td>\n",
       "      <td>The best place I've worked and also the most d...</td>\n",
       "      <td>You can't find a more well-regarded company th...</td>\n",
       "      <td>I live in SF so the commute can take between 1...</td>\n",
       "      <td>Keep on NOT micromanaging - that is a huge ben...</td>\n",
       "      <td>5.0</td>\n",
       "      <td>2.0</td>\n",
       "      <td>5.0</td>\n",
       "      <td>5.0</td>\n",
       "      <td>4.0</td>\n",
       "      <td>5.0</td>\n",
       "      <td>498</td>\n",
       "      <td>https://www.glassdoor.com/Reviews/Google-Revie...</td>\n",
       "    </tr>\n",
       "    <tr>\n",
       "      <th>7820</th>\n",
       "      <td>amazon</td>\n",
       "      <td>Phoenix, AZ</td>\n",
       "      <td>None</td>\n",
       "      <td>Current Employee - Software Development Manager</td>\n",
       "      <td>An Amazing Place to Work</td>\n",
       "      <td>I've been at Amazon for a month now, and I've ...</td>\n",
       "      <td>No cons, so far - seriously. Like I said, I'm ...</td>\n",
       "      <td>none</td>\n",
       "      <td>5.0</td>\n",
       "      <td>4.0</td>\n",
       "      <td>5.0</td>\n",
       "      <td>5.0</td>\n",
       "      <td>5.0</td>\n",
       "      <td>5.0</td>\n",
       "      <td>580</td>\n",
       "      <td>https://www.glassdoor.com/Reviews/Amazon-Revie...</td>\n",
       "    </tr>\n",
       "    <tr>\n",
       "      <th>7822</th>\n",
       "      <td>amazon</td>\n",
       "      <td>Seattle, WA</td>\n",
       "      <td>Jan 10, 2016</td>\n",
       "      <td>Current Employee - Anonymous Employee</td>\n",
       "      <td>You Get What You Put In</td>\n",
       "      <td>Really smart people, a lot of opportunity for ...</td>\n",
       "      <td>You have to be self motivated. NO ONE will hol...</td>\n",
       "      <td>More on-boarding training before new employees...</td>\n",
       "      <td>5.0</td>\n",
       "      <td>4.0</td>\n",
       "      <td>5.0</td>\n",
       "      <td>5.0</td>\n",
       "      <td>5.0</td>\n",
       "      <td>5.0</td>\n",
       "      <td>1759</td>\n",
       "      <td>https://www.glassdoor.com/Reviews/Amazon-Revie...</td>\n",
       "    </tr>\n",
       "    <tr>\n",
       "      <th>7823</th>\n",
       "      <td>amazon</td>\n",
       "      <td>Seattle, WA</td>\n",
       "      <td>Feb 20, 2016</td>\n",
       "      <td>Current Employee - Senior Engineering Manager</td>\n",
       "      <td>Exciting Work, Abusive Culture</td>\n",
       "      <td>Jeff Bezos and his \"S-Team\" are brilliant and ...</td>\n",
       "      <td>The management process is abusive, and I'm cur...</td>\n",
       "      <td>Don't pretend that the recent NY Times article...</td>\n",
       "      <td>3.0</td>\n",
       "      <td>3.0</td>\n",
       "      <td>3.0</td>\n",
       "      <td>3.0</td>\n",
       "      <td>4.0</td>\n",
       "      <td>4.0</td>\n",
       "      <td>1404</td>\n",
       "      <td>https://www.glassdoor.com/Reviews/Amazon-Revie...</td>\n",
       "    </tr>\n",
       "    <tr>\n",
       "      <th>7824</th>\n",
       "      <td>amazon</td>\n",
       "      <td>Seattle, WA</td>\n",
       "      <td>Dec 17, 2013</td>\n",
       "      <td>Current Employee - Software Development Manager</td>\n",
       "      <td>Can be amazing for some people, horrible for o...</td>\n",
       "      <td>Amazon is doing lot's of cool stuff...but lots...</td>\n",
       "      <td>- You're responsible for your own career progr...</td>\n",
       "      <td>Stack ranking is a horrible practice since it'...</td>\n",
       "      <td>4.0</td>\n",
       "      <td>3.0</td>\n",
       "      <td>3.0</td>\n",
       "      <td>5.0</td>\n",
       "      <td>5.0</td>\n",
       "      <td>4.0</td>\n",
       "      <td>1275</td>\n",
       "      <td>https://www.glassdoor.com/Reviews/Amazon-Revie...</td>\n",
       "    </tr>\n",
       "    <tr>\n",
       "      <th>10669</th>\n",
       "      <td>amazon</td>\n",
       "      <td>Seattle, WA</td>\n",
       "      <td>Sep 19, 2014</td>\n",
       "      <td>Current Employee - Software Development Engineer</td>\n",
       "      <td>A huge diverse high tech company with all sort...</td>\n",
       "      <td>Disclaimer: My opinions reflect that of an SDE...</td>\n",
       "      <td>Beware of bad managers and horrible team mates...</td>\n",
       "      <td>The thing about thinking long-term is getting ...</td>\n",
       "      <td>4.0</td>\n",
       "      <td>NaN</td>\n",
       "      <td>NaN</td>\n",
       "      <td>NaN</td>\n",
       "      <td>NaN</td>\n",
       "      <td>NaN</td>\n",
       "      <td>494</td>\n",
       "      <td>https://www.glassdoor.com/Reviews/Amazon-Revie...</td>\n",
       "    </tr>\n",
       "    <tr>\n",
       "      <th>36651</th>\n",
       "      <td>apple</td>\n",
       "      <td>none</td>\n",
       "      <td>Aug 28, 2014</td>\n",
       "      <td>Current Employee - Anonymous Employee</td>\n",
       "      <td>Challenging, Rewarding, but ZERO work/life bal...</td>\n",
       "      <td>We work with geniuses - in every department, W...</td>\n",
       "      <td>ZERO ZERO ZERO work/life balance. Execs have b...</td>\n",
       "      <td>none</td>\n",
       "      <td>4.0</td>\n",
       "      <td>1.0</td>\n",
       "      <td>3.0</td>\n",
       "      <td>3.0</td>\n",
       "      <td>3.0</td>\n",
       "      <td>3.0</td>\n",
       "      <td>822</td>\n",
       "      <td>https://www.glassdoor.com/Reviews/Apple-Review...</td>\n",
       "    </tr>\n",
       "    <tr>\n",
       "      <th>49601</th>\n",
       "      <td>microsoft</td>\n",
       "      <td>Redmond, WA</td>\n",
       "      <td>Jan 28, 2013</td>\n",
       "      <td>Current Employee - Anonymous Employee</td>\n",
       "      <td>Thoughts after 10 years....</td>\n",
       "      <td>1. If you love tech, this is a great place. No...</td>\n",
       "      <td>Brand on Your Resume: After many years of losi...</td>\n",
       "      <td>I'll type it here - but I don't they are liste...</td>\n",
       "      <td>4.0</td>\n",
       "      <td>4.0</td>\n",
       "      <td>2.0</td>\n",
       "      <td>2.0</td>\n",
       "      <td>4.0</td>\n",
       "      <td>NaN</td>\n",
       "      <td>1439</td>\n",
       "      <td>https://www.glassdoor.com/Reviews/Microsoft-Re...</td>\n",
       "    </tr>\n",
       "  </tbody>\n",
       "</table>\n",
       "</div>"
      ],
      "text/plain": [
       "         company           location          dates  \\\n",
       "2         google  Mountain View, CA   Jun 21, 2013   \n",
       "3         google       New York, NY   May 10, 2014   \n",
       "4         google  Mountain View, CA    Feb 8, 2015   \n",
       "7820      amazon        Phoenix, AZ           None   \n",
       "7822      amazon        Seattle, WA   Jan 10, 2016   \n",
       "7823      amazon        Seattle, WA   Feb 20, 2016   \n",
       "7824      amazon        Seattle, WA   Dec 17, 2013   \n",
       "10669     amazon        Seattle, WA   Sep 19, 2014   \n",
       "36651      apple               none   Aug 28, 2014   \n",
       "49601  microsoft        Redmond, WA   Jan 28, 2013   \n",
       "\n",
       "                                              job-title  \\\n",
       "2                     Former Employee - Program Manager   \n",
       "3              Current Employee - Software Engineer III   \n",
       "4                 Current Employee - Anonymous Employee   \n",
       "7820    Current Employee - Software Development Manager   \n",
       "7822              Current Employee - Anonymous Employee   \n",
       "7823      Current Employee - Senior Engineering Manager   \n",
       "7824    Current Employee - Software Development Manager   \n",
       "10669  Current Employee - Software Development Engineer   \n",
       "36651             Current Employee - Anonymous Employee   \n",
       "49601             Current Employee - Anonymous Employee   \n",
       "\n",
       "                                                 summary  \\\n",
       "2      Moving at the speed of light, burn out is inev...   \n",
       "3      Great balance between big-company security and...   \n",
       "4      The best place I've worked and also the most d...   \n",
       "7820                            An Amazing Place to Work   \n",
       "7822                             You Get What You Put In   \n",
       "7823                      Exciting Work, Abusive Culture   \n",
       "7824   Can be amazing for some people, horrible for o...   \n",
       "10669  A huge diverse high tech company with all sort...   \n",
       "36651  Challenging, Rewarding, but ZERO work/life bal...   \n",
       "49601                        Thoughts after 10 years....   \n",
       "\n",
       "                                                    pros  \\\n",
       "2      1) Food, food, food. 15+ cafes on main campus ...   \n",
       "3      * If you're a software engineer, you're among ...   \n",
       "4      You can't find a more well-regarded company th...   \n",
       "7820   I've been at Amazon for a month now, and I've ...   \n",
       "7822   Really smart people, a lot of opportunity for ...   \n",
       "7823   Jeff Bezos and his \"S-Team\" are brilliant and ...   \n",
       "7824   Amazon is doing lot's of cool stuff...but lots...   \n",
       "10669  Disclaimer: My opinions reflect that of an SDE...   \n",
       "36651  We work with geniuses - in every department, W...   \n",
       "49601  1. If you love tech, this is a great place. No...   \n",
       "\n",
       "                                                    cons  \\\n",
       "2      1) Work/life balance. What balance? All those ...   \n",
       "3      * It *is* becoming larger, and with it comes g...   \n",
       "4      I live in SF so the commute can take between 1...   \n",
       "7820   No cons, so far - seriously. Like I said, I'm ...   \n",
       "7822   You have to be self motivated. NO ONE will hol...   \n",
       "7823   The management process is abusive, and I'm cur...   \n",
       "7824   - You're responsible for your own career progr...   \n",
       "10669  Beware of bad managers and horrible team mates...   \n",
       "36651  ZERO ZERO ZERO work/life balance. Execs have b...   \n",
       "49601  Brand on Your Resume: After many years of losi...   \n",
       "\n",
       "                                          advice-to-mgmt  overall-ratings  \\\n",
       "2      1) Don't dismiss emotional intelligence and ad...              4.0   \n",
       "3      Keep the focus on the user. Everything else wi...              5.0   \n",
       "4      Keep on NOT micromanaging - that is a huge ben...              5.0   \n",
       "7820                                                none              5.0   \n",
       "7822   More on-boarding training before new employees...              5.0   \n",
       "7823   Don't pretend that the recent NY Times article...              3.0   \n",
       "7824   Stack ranking is a horrible practice since it'...              4.0   \n",
       "10669  The thing about thinking long-term is getting ...              4.0   \n",
       "36651                                               none              4.0   \n",
       "49601  I'll type it here - but I don't they are liste...              4.0   \n",
       "\n",
       "       work-balance-stars  culture-values-stars  career-opportunities-stars  \\\n",
       "2                     2.0                   3.0                         3.0   \n",
       "3                     5.0                   4.0                         5.0   \n",
       "4                     2.0                   5.0                         5.0   \n",
       "7820                  4.0                   5.0                         5.0   \n",
       "7822                  4.0                   5.0                         5.0   \n",
       "7823                  3.0                   3.0                         3.0   \n",
       "7824                  3.0                   3.0                         5.0   \n",
       "10669                 NaN                   NaN                         NaN   \n",
       "36651                 1.0                   3.0                         3.0   \n",
       "49601                 4.0                   2.0                         2.0   \n",
       "\n",
       "       comp-benefit-stars  senior-management-stars  helpful-count  \\\n",
       "2                     5.0                      3.0           2094   \n",
       "3                     5.0                      4.0            949   \n",
       "4                     4.0                      5.0            498   \n",
       "7820                  5.0                      5.0            580   \n",
       "7822                  5.0                      5.0           1759   \n",
       "7823                  4.0                      4.0           1404   \n",
       "7824                  5.0                      4.0           1275   \n",
       "10669                 NaN                      NaN            494   \n",
       "36651                 3.0                      3.0            822   \n",
       "49601                 4.0                      NaN           1439   \n",
       "\n",
       "                                                    link  \n",
       "2      https://www.glassdoor.com/Reviews/Google-Revie...  \n",
       "3      https://www.glassdoor.com/Reviews/Google-Revie...  \n",
       "4      https://www.glassdoor.com/Reviews/Google-Revie...  \n",
       "7820   https://www.glassdoor.com/Reviews/Amazon-Revie...  \n",
       "7822   https://www.glassdoor.com/Reviews/Amazon-Revie...  \n",
       "7823   https://www.glassdoor.com/Reviews/Amazon-Revie...  \n",
       "7824   https://www.glassdoor.com/Reviews/Amazon-Revie...  \n",
       "10669  https://www.glassdoor.com/Reviews/Amazon-Revie...  \n",
       "36651  https://www.glassdoor.com/Reviews/Apple-Review...  \n",
       "49601  https://www.glassdoor.com/Reviews/Microsoft-Re...  "
      ]
     },
     "execution_count": 11,
     "metadata": {},
     "output_type": "execute_result"
    }
   ],
   "source": [
    "highly_helpful_reviews = data[data['helpful-count'] > 450]\n",
    "print('There are {} highly helpful reviews:'.format(len(highly_helpful_reviews)))\n",
    "highly_helpful_reviews"
   ]
  },
  {
   "cell_type": "markdown",
   "metadata": {},
   "source": [
    "At a glance, none of these reviews seem like they should be disqualified due to the unusally high helpful-count.  They all have extensive feedback and, with one exception, star counts for all or almost all of the subsections."
   ]
  },
  {
   "cell_type": "markdown",
   "metadata": {},
   "source": [
    "## 3. Potential Hypotheses"
   ]
  },
  {
   "cell_type": "markdown",
   "metadata": {},
   "source": [
    "The outliers provide a great jumping off point for thinking about what questions we might want to answer using this Glassdoor review data.  As stated in the introduction, my motivation for choosing the Glassdoor dataset was my interest in: what makes a helpful review?  My own tendency when reading Glassdoor reviews is to immediately zero in on the negative ones, probably because I'm a very risk-averse person.  I would hate to go through a whole interviewing process, start a new job, etc., only to find out that I'm in a bad situation - so I pay close attention to the negative experiences and feedback of others, hoping to assess if the same thing would be likely to happen to me.\n",
    "\n",
    "So my initial thought was, is there a link between helpfulness and average rating?  Are \"here's the dirt\" negative reviews more likely to be rated as helpful?  However, the exceptionally helpful reviews are already casting some doubt on that possibility, given that the lowest super-helpful review has an overall rating of 3 stars.  But what about the subsection stars, such as work balance?  There's a handful of highly helpful reviews with 1 and 2 star feedback here, so maybe that's an area worth pursuing.\n",
    "\n",
    "The other dimension I'd like to explore is the possible link between the feedback itself and the helpfulness.  Are longer or shorter reviews more likely to be rated as helpful?  Can we do some sort of deeper textual analysis?\n",
    "\n",
    "With that in mind, let's dig in and start visualizing the data."
   ]
  },
  {
   "cell_type": "markdown",
   "metadata": {},
   "source": [
    "## 4. Data Visualization & Initial Insights"
   ]
  },
  {
   "cell_type": "markdown",
   "metadata": {},
   "source": [
    "Note that due to the discrete (as opposed to continuous) nature of the data (i.e. the fact that almost all of the numerical values are star-out-of-five categories), `seaborn.pairplot()` wasn't particularly helpful for getting an overview of the data and its relationships.\n",
    "\n",
    "Another issue which quickly became apparent was that those \"exceptionally helpful\" reviews skewed the arithmetic mean so high as to be almost meaningless.  To illustrate:"
   ]
  },
  {
   "cell_type": "code",
   "execution_count": 12,
   "metadata": {},
   "outputs": [
    {
     "name": "stdout",
     "output_type": "stream",
     "text": [
      "17.77% of reviews are above average in helpfulness\n",
      "82.23% of reviews are below average in helpfulness\n"
     ]
    }
   ],
   "source": [
    "above_average_helpfulness = pandas.DataFrame(data = {'Star rating': [1, 2, 3, 4, 5],\n",
    "                                                     'Above average reviews': [(data[data['overall-ratings'] == 1.0]['helpful-count'] > 1.268211).sum(),\n",
    "                                                                               (data[data['overall-ratings'] == 2.0]['helpful-count'] > 1.268211).sum(),\n",
    "                                                                               (data[data['overall-ratings'] == 3.0]['helpful-count'] > 1.268211).sum(),\n",
    "                                                                               (data[data['overall-ratings'] == 4.0]['helpful-count'] > 1.268211).sum(),\n",
    "                                                                               (data[data['overall-ratings'] == 5.0]['helpful-count'] > 1.268211).sum()]})\n",
    "\n",
    "below_average_helpfulness = pandas.DataFrame(data = {'Star rating': [1, 2, 3, 4, 5],\n",
    "                                                     'Below average reviews': [(data[data['overall-ratings'] == 1.0]['helpful-count'] < 1.268211).sum(),\n",
    "                                                                               (data[data['overall-ratings'] == 2.0]['helpful-count'] < 1.268211).sum(),\n",
    "                                                                               (data[data['overall-ratings'] == 3.0]['helpful-count'] < 1.268211).sum(),\n",
    "                                                                               (data[data['overall-ratings'] == 4.0]['helpful-count'] < 1.268211).sum(),\n",
    "                                                                               (data[data['overall-ratings'] == 5.0]['helpful-count'] < 1.268211).sum()]})\n",
    "\n",
    "print(\"{}% of reviews are above average in helpfulness\".format(round(above_average_helpfulness['Above average reviews'].sum()/len(data) * 100, 2)))\n",
    "print(\"{}% of reviews are below average in helpfulness\".format(round(below_average_helpfulness['Below average reviews'].sum()/len(data) * 100, 2)))"
   ]
  },
  {
   "cell_type": "markdown",
   "metadata": {},
   "source": [
    "This made the relationship between helpfulness and overall rating somewhat challenging to investigate, but I did my best and present my findings below."
   ]
  },
  {
   "cell_type": "markdown",
   "metadata": {},
   "source": [
    "### Helpfulness vs. overall rating"
   ]
  },
  {
   "cell_type": "code",
   "execution_count": 13,
   "metadata": {},
   "outputs": [
    {
     "data": {
      "text/plain": [
       "<seaborn.axisgrid.FacetGrid at 0x1a2158f400>"
      ]
     },
     "execution_count": 13,
     "metadata": {},
     "output_type": "execute_result"
    },
    {
     "data": {
      "image/png": "[encoded data removed]",
      "text/plain": [
       "<Figure size 360x360 with 1 Axes>"
      ]
     },
     "metadata": {
      "needs_background": "light"
     },
     "output_type": "display_data"
    }
   ],
   "source": [
    "seaborn.catplot(x=\"overall-ratings\", y=\"helpful-count\", data=data)"
   ]
  },
  {
   "cell_type": "markdown",
   "metadata": {},
   "source": [
    "With a quick catplot, we immediately see the high number of \"exceptionally helpful\" reviews contained within the 4 or 5-star category, which we already knew about.  But what about the \"average helpfulness\" of each category?"
   ]
  },
  {
   "cell_type": "code",
   "execution_count": 14,
   "metadata": {},
   "outputs": [
    {
     "data": {
      "text/plain": [
       "<matplotlib.axes._subplots.AxesSubplot at 0x1a217029b0>"
      ]
     },
     "execution_count": 14,
     "metadata": {},
     "output_type": "execute_result"
    },
    {
     "data": {
      "image/png": "[encoded data removed]",
      "text/plain": [
       "<Figure size 432x288 with 1 Axes>"
      ]
     },
     "metadata": {
      "needs_background": "light"
     },
     "output_type": "display_data"
    }
   ],
   "source": [
    "helpful_by_ratings_mean = data.groupby('overall-ratings')['helpful-count'].agg('mean')\n",
    "helpful_by_ratings_mean.name = 'Average helpfulness'\n",
    "seaborn.barplot(y=helpful_by_ratings_mean, x=helpful_by_ratings_mean.index)"
   ]
  },
  {
   "cell_type": "markdown",
   "metadata": {},
   "source": [
    "Here it looks like my instinct is being vindicated - the average helpfulness of 1 and 2 star reviews is **much** higher than that of 3, 4, and 5 star reviews.  In fact, it's almost suspiciously high.  How can this be, if the 4 and 5 star reviews contain so many of those extremely-helpful outliers?  Is this data skewed somehow due to the distorted arithmetic mean?  Let's try to compare apples to apples and take a look at the distribution of above-average and below-average helpful reviews in each star category:"
   ]
  },
  {
   "cell_type": "code",
   "execution_count": 15,
   "metadata": {
    "scrolled": true
   },
   "outputs": [
    {
     "data": {
      "text/html": [
       "<div>\n",
       "<style scoped>\n",
       "    .dataframe tbody tr th:only-of-type {\n",
       "        vertical-align: middle;\n",
       "    }\n",
       "\n",
       "    .dataframe tbody tr th {\n",
       "        vertical-align: top;\n",
       "    }\n",
       "\n",
       "    .dataframe thead th {\n",
       "        text-align: right;\n",
       "    }\n",
       "</style>\n",
       "<table border=\"1\" class=\"dataframe\">\n",
       "  <thead>\n",
       "    <tr style=\"text-align: right;\">\n",
       "      <th></th>\n",
       "      <th>Below average reviews</th>\n",
       "      <th>Percent share</th>\n",
       "    </tr>\n",
       "    <tr>\n",
       "      <th>Star rating</th>\n",
       "      <th></th>\n",
       "      <th></th>\n",
       "    </tr>\n",
       "  </thead>\n",
       "  <tbody>\n",
       "    <tr>\n",
       "      <th>1</th>\n",
       "      <td>1623</td>\n",
       "      <td>2.92</td>\n",
       "    </tr>\n",
       "    <tr>\n",
       "      <th>2</th>\n",
       "      <td>3016</td>\n",
       "      <td>5.43</td>\n",
       "    </tr>\n",
       "    <tr>\n",
       "      <th>3</th>\n",
       "      <td>10204</td>\n",
       "      <td>18.38</td>\n",
       "    </tr>\n",
       "    <tr>\n",
       "      <th>4</th>\n",
       "      <td>19963</td>\n",
       "      <td>35.95</td>\n",
       "    </tr>\n",
       "    <tr>\n",
       "      <th>5</th>\n",
       "      <td>20720</td>\n",
       "      <td>37.32</td>\n",
       "    </tr>\n",
       "  </tbody>\n",
       "</table>\n",
       "</div>"
      ],
      "text/plain": [
       "             Below average reviews  Percent share\n",
       "Star rating                                      \n",
       "1                             1623           2.92\n",
       "2                             3016           5.43\n",
       "3                            10204          18.38\n",
       "4                            19963          35.95\n",
       "5                            20720          37.32"
      ]
     },
     "execution_count": 15,
     "metadata": {},
     "output_type": "execute_result"
    }
   ],
   "source": [
    "below_average_helpfulness = below_average_helpfulness.set_index('Star rating')\n",
    "below_average_helpfulness['Percent share'] = round(below_average_helpfulness['Below average reviews']/below_average_helpfulness['Below average reviews'].sum() * 100, 2)\n",
    "below_average_helpfulness"
   ]
  },
  {
   "cell_type": "code",
   "execution_count": 16,
   "metadata": {
    "scrolled": false
   },
   "outputs": [
    {
     "data": {
      "text/plain": [
       "<matplotlib.axes._subplots.AxesSubplot at 0x1a2173e080>"
      ]
     },
     "execution_count": 16,
     "metadata": {},
     "output_type": "execute_result"
    },
    {
     "data": {
      "image/png": "[encoded data removed]",
      "text/plain": [
       "<Figure size 432x288 with 1 Axes>"
      ]
     },
     "metadata": {
      "needs_background": "light"
     },
     "output_type": "display_data"
    }
   ],
   "source": [
    "seaborn.barplot(x=below_average_helpfulness.index, y=\"Below average reviews\", data=below_average_helpfulness)"
   ]
  },
  {
   "cell_type": "code",
   "execution_count": 17,
   "metadata": {
    "scrolled": true
   },
   "outputs": [
    {
     "data": {
      "text/html": [
       "<div>\n",
       "<style scoped>\n",
       "    .dataframe tbody tr th:only-of-type {\n",
       "        vertical-align: middle;\n",
       "    }\n",
       "\n",
       "    .dataframe tbody tr th {\n",
       "        vertical-align: top;\n",
       "    }\n",
       "\n",
       "    .dataframe thead th {\n",
       "        text-align: right;\n",
       "    }\n",
       "</style>\n",
       "<table border=\"1\" class=\"dataframe\">\n",
       "  <thead>\n",
       "    <tr style=\"text-align: right;\">\n",
       "      <th></th>\n",
       "      <th>Above average reviews</th>\n",
       "      <th>Percent share</th>\n",
       "    </tr>\n",
       "    <tr>\n",
       "      <th>Star rating</th>\n",
       "      <th></th>\n",
       "      <th></th>\n",
       "    </tr>\n",
       "  </thead>\n",
       "  <tbody>\n",
       "    <tr>\n",
       "      <th>1</th>\n",
       "      <td>2283</td>\n",
       "      <td>19.02</td>\n",
       "    </tr>\n",
       "    <tr>\n",
       "      <th>2</th>\n",
       "      <td>2266</td>\n",
       "      <td>18.88</td>\n",
       "    </tr>\n",
       "    <tr>\n",
       "      <th>3</th>\n",
       "      <td>2449</td>\n",
       "      <td>20.40</td>\n",
       "    </tr>\n",
       "    <tr>\n",
       "      <th>4</th>\n",
       "      <td>2535</td>\n",
       "      <td>21.12</td>\n",
       "    </tr>\n",
       "    <tr>\n",
       "      <th>5</th>\n",
       "      <td>2470</td>\n",
       "      <td>20.58</td>\n",
       "    </tr>\n",
       "  </tbody>\n",
       "</table>\n",
       "</div>"
      ],
      "text/plain": [
       "             Above average reviews  Percent share\n",
       "Star rating                                      \n",
       "1                             2283          19.02\n",
       "2                             2266          18.88\n",
       "3                             2449          20.40\n",
       "4                             2535          21.12\n",
       "5                             2470          20.58"
      ]
     },
     "execution_count": 17,
     "metadata": {},
     "output_type": "execute_result"
    }
   ],
   "source": [
    "above_average_helpfulness = above_average_helpfulness.set_index('Star rating')\n",
    "above_average_helpfulness['Percent share'] = round(above_average_helpfulness['Above average reviews']/above_average_helpfulness['Above average reviews'].sum() * 100, 2)\n",
    "above_average_helpfulness"
   ]
  },
  {
   "cell_type": "code",
   "execution_count": 18,
   "metadata": {},
   "outputs": [
    {
     "data": {
      "text/plain": [
       "<matplotlib.axes._subplots.AxesSubplot at 0x1a217297f0>"
      ]
     },
     "execution_count": 18,
     "metadata": {},
     "output_type": "execute_result"
    },
    {
     "data": {
      "image/png": "[encoded data removed]",
      "text/plain": [
       "<Figure size 432x288 with 1 Axes>"
      ]
     },
     "metadata": {
      "needs_background": "light"
     },
     "output_type": "display_data"
    }
   ],
   "source": [
    "seaborn.barplot(x=above_average_helpfulness.index, y=\"Above average reviews\", data=above_average_helpfulness)"
   ]
  },
  {
   "cell_type": "markdown",
   "metadata": {},
   "source": [
    "#### Conclusions\n",
    "Although the 4 and 5 star reviews have the lion's share of exceptionally-helpful reviews (i.e. many standard deviations above the mean), the proportion of _overall_ above-average reviews is pretty equal among the five star categories, around 20% each.  Meanwhile, 3/4/5 star reviews have a significantly higher proportion of _below-average_ reviews than 1 and 2 star reviews, which account for less than 9% of below-average reviews total.  In other words, reviews with high ratings are more likely to be _very_ popular - but also much more likely to have only 0 or 1 vote(s) for helpfulness.\n",
    "\n",
    "This suggests that perhaps a review is more likely to be _not rated helpful_ if it has 3 stars or above, but frankly the data is unclear enough that I don't have high confidence in training any model to predict helpfulness or lack thereof based on overall rating."
   ]
  },
  {
   "cell_type": "markdown",
   "metadata": {},
   "source": [
    "### Helpfulness vs. sub-rating"
   ]
  },
  {
   "cell_type": "markdown",
   "metadata": {},
   "source": [
    "Well, what about the star ratings in each subsection?\n",
    "\n",
    "First, since we have a mix of integer values and NaN in all of the sub-rating columns, let's separate those out into two groups each and reason about them separately:"
   ]
  },
  {
   "cell_type": "code",
   "execution_count": 19,
   "metadata": {},
   "outputs": [],
   "source": [
    "wb_stars_provided = data[pandas.notna(data['work-balance-stars'])]\n",
    "wb_stars_not_provided = data[pandas.isna(data['work-balance-stars'])]\n",
    "\n",
    "cv_stars_provided = data[pandas.notna(data['culture-values-stars'])]\n",
    "cv_stars_not_provided = data[pandas.isna(data['culture-values-stars'])]\n",
    "\n",
    "co_stars_provided = data[pandas.notna(data['career-opportunities-stars'])]\n",
    "co_stars_not_provided = data[pandas.isna(data['career-opportunities-stars'])]\n",
    "\n",
    "cb_stars_provided = data[pandas.notna(data['comp-benefit-stars'])]\n",
    "cb_stars_not_provided = data[pandas.isna(data['comp-benefit-stars'])]\n",
    "\n",
    "sm_stars_provided = data[pandas.notna(data['senior-management-stars'])]\n",
    "sm_stars_not_provided = data[pandas.isna(data['senior-management-stars'])]"
   ]
  },
  {
   "cell_type": "markdown",
   "metadata": {},
   "source": [
    "For the reviews where subsection ratings were not provided, can we deduce anything about the helpfulness?  Let's do some plotting and see if the helpfulness values seem to be clustered around a particular level, or if they're all over the place.\n",
    "\n",
    "#### Helpfulness of NaN work balance stars"
   ]
  },
  {
   "cell_type": "code",
   "execution_count": 20,
   "metadata": {},
   "outputs": [
    {
     "data": {
      "image/png": "[encoded data removed]",
      "text/plain": [
       "<Figure size 432x288 with 1 Axes>"
      ]
     },
     "metadata": {
      "needs_background": "light"
     },
     "output_type": "display_data"
    }
   ],
   "source": [
    "wb_stars_not_provided[['helpful-count']].plot()\n",
    "plt.yscale('log')"
   ]
  },
  {
   "cell_type": "markdown",
   "metadata": {},
   "source": [
    "#### Helpfulness of NaN culture values stars"
   ]
  },
  {
   "cell_type": "code",
   "execution_count": 21,
   "metadata": {
    "scrolled": true
   },
   "outputs": [
    {
     "data": {
      "image/png": "[encoded data removed]",
      "text/plain": [
       "<Figure size 432x288 with 1 Axes>"
      ]
     },
     "metadata": {
      "needs_background": "light"
     },
     "output_type": "display_data"
    }
   ],
   "source": [
    "cv_stars_not_provided[['helpful-count']].plot()\n",
    "plt.yscale('log')"
   ]
  },
  {
   "cell_type": "markdown",
   "metadata": {},
   "source": [
    "#### Helpfulness of NaN career opportunity stars"
   ]
  },
  {
   "cell_type": "code",
   "execution_count": 22,
   "metadata": {
    "scrolled": true
   },
   "outputs": [
    {
     "data": {
      "image/png": "[encoded data removed]",
      "text/plain": [
       "<Figure size 432x288 with 1 Axes>"
      ]
     },
     "metadata": {
      "needs_background": "light"
     },
     "output_type": "display_data"
    }
   ],
   "source": [
    "co_stars_not_provided[['helpful-count']].plot()\n",
    "plt.yscale('log')"
   ]
  },
  {
   "cell_type": "markdown",
   "metadata": {},
   "source": [
    "#### Helpfulness of NaN comp benefits stars"
   ]
  },
  {
   "cell_type": "code",
   "execution_count": 23,
   "metadata": {
    "scrolled": true
   },
   "outputs": [
    {
     "data": {
      "image/png": "[encoded data removed]",
      "text/plain": [
       "<Figure size 432x288 with 1 Axes>"
      ]
     },
     "metadata": {
      "needs_background": "light"
     },
     "output_type": "display_data"
    }
   ],
   "source": [
    "cb_stars_not_provided[['helpful-count']].plot()\n",
    "plt.yscale('log')"
   ]
  },
  {
   "cell_type": "markdown",
   "metadata": {},
   "source": [
    "#### Helpfulness of NaN senior management stars"
   ]
  },
  {
   "cell_type": "code",
   "execution_count": 24,
   "metadata": {},
   "outputs": [
    {
     "data": {
      "image/png": "[encoded data removed]",
      "text/plain": [
       "<Figure size 432x288 with 1 Axes>"
      ]
     },
     "metadata": {
      "needs_background": "light"
     },
     "output_type": "display_data"
    }
   ],
   "source": [
    "sm_stars_not_provided[['helpful-count']].plot()\n",
    "plt.yscale('log')"
   ]
  },
  {
   "cell_type": "markdown",
   "metadata": {},
   "source": [
    "#### Conclusions\n",
    "\n",
    "Not really; the values seem to range a lot, even when normalized a bit using logarithms.  So next, let's plot the helpfulness by star rating for each subsection where data was provided:\n",
    "\n",
    "#### Helpfulness by work balance stars"
   ]
  },
  {
   "cell_type": "code",
   "execution_count": 25,
   "metadata": {},
   "outputs": [
    {
     "data": {
      "text/plain": [
       "<matplotlib.axes._subplots.AxesSubplot at 0x1a2a3955f8>"
      ]
     },
     "execution_count": 25,
     "metadata": {},
     "output_type": "execute_result"
    },
    {
     "data": {
      "image/png": "[encoded data removed]",
      "text/plain": [
       "<Figure size 432x288 with 1 Axes>"
      ]
     },
     "metadata": {
      "needs_background": "light"
     },
     "output_type": "display_data"
    }
   ],
   "source": [
    "helpful_by_wb_counts = wb_stars_provided.groupby('work-balance-stars')['helpful-count'].agg('sum')\n",
    "helpful_by_wb_counts.name = 'Total helpfulness'\n",
    "seaborn.barplot(y=helpful_by_wb_counts, x=helpful_by_wb_counts.index)"
   ]
  },
  {
   "cell_type": "code",
   "execution_count": 26,
   "metadata": {},
   "outputs": [
    {
     "data": {
      "text/plain": [
       "<matplotlib.axes._subplots.AxesSubplot at 0x1a27234b38>"
      ]
     },
     "execution_count": 26,
     "metadata": {},
     "output_type": "execute_result"
    },
    {
     "data": {
      "image/png": "[encoded data removed]",
      "text/plain": [
       "<Figure size 432x288 with 1 Axes>"
      ]
     },
     "metadata": {
      "needs_background": "light"
     },
     "output_type": "display_data"
    }
   ],
   "source": [
    "helpful_by_wb_mean = wb_stars_provided.groupby('work-balance-stars')['helpful-count'].agg('mean')\n",
    "helpful_by_wb_mean.name = 'Average helpfulness'\n",
    "seaborn.barplot(y=helpful_by_wb_mean, x=helpful_by_wb_mean.index)"
   ]
  },
  {
   "cell_type": "markdown",
   "metadata": {},
   "source": [
    "Note that for all of the subsections except culture values, the dataset includes some rows with half-star ratings (1.5, 2.5, etc.).  Since these are a very small proportion of the dataset (less than a percentage point each, for the most part), whereas the full-star ratings are more evenly distributed, the _total helpfulness sum_ is significantly lower for the half-star ratings whereas the _average helpfulness_ is significantly higher due to the small number of entries."
   ]
  },
  {
   "cell_type": "markdown",
   "metadata": {},
   "source": [
    "#### Helpfulness by culture values stars"
   ]
  },
  {
   "cell_type": "code",
   "execution_count": 27,
   "metadata": {
    "scrolled": true
   },
   "outputs": [
    {
     "data": {
      "text/plain": [
       "<matplotlib.axes._subplots.AxesSubplot at 0x1a26606ba8>"
      ]
     },
     "execution_count": 27,
     "metadata": {},
     "output_type": "execute_result"
    },
    {
     "data": {
      "image/png": "[encoded data removed]",
      "text/plain": [
       "<Figure size 432x288 with 1 Axes>"
      ]
     },
     "metadata": {
      "needs_background": "light"
     },
     "output_type": "display_data"
    }
   ],
   "source": [
    "helpful_by_cv_counts = cv_stars_provided.groupby('culture-values-stars')['helpful-count'].agg('sum')\n",
    "helpful_by_cv_counts.name = 'Total helpfulness'\n",
    "seaborn.barplot(y=helpful_by_cv_counts, x=helpful_by_cv_counts.index)"
   ]
  },
  {
   "cell_type": "code",
   "execution_count": 28,
   "metadata": {},
   "outputs": [
    {
     "data": {
      "text/plain": [
       "<matplotlib.axes._subplots.AxesSubplot at 0x1a266328d0>"
      ]
     },
     "execution_count": 28,
     "metadata": {},
     "output_type": "execute_result"
    },
    {
     "data": {
      "image/png": "[encoded data removed]",
      "text/plain": [
       "<Figure size 432x288 with 1 Axes>"
      ]
     },
     "metadata": {
      "needs_background": "light"
     },
     "output_type": "display_data"
    }
   ],
   "source": [
    "helpful_by_cv_mean = cv_stars_provided.groupby('culture-values-stars')['helpful-count'].agg('mean')\n",
    "helpful_by_cv_mean.name = 'Average helpfulness'\n",
    "seaborn.barplot(y=helpful_by_cv_mean, x=helpful_by_cv_mean.index)"
   ]
  },
  {
   "cell_type": "markdown",
   "metadata": {},
   "source": [
    "#### Helpfulness by career opportunity stars"
   ]
  },
  {
   "cell_type": "code",
   "execution_count": 29,
   "metadata": {
    "scrolled": true
   },
   "outputs": [
    {
     "data": {
      "text/plain": [
       "<matplotlib.axes._subplots.AxesSubplot at 0x1a22f68e10>"
      ]
     },
     "execution_count": 29,
     "metadata": {},
     "output_type": "execute_result"
    },
    {
     "data": {
      "image/png": "[encoded data removed]",
      "text/plain": [
       "<Figure size 432x288 with 1 Axes>"
      ]
     },
     "metadata": {
      "needs_background": "light"
     },
     "output_type": "display_data"
    }
   ],
   "source": [
    "helpful_by_co_counts = co_stars_provided.groupby('career-opportunities-stars')['helpful-count'].agg('sum')\n",
    "helpful_by_co_counts.name = 'Total helpfulness'\n",
    "seaborn.barplot(y=helpful_by_co_counts, x=helpful_by_co_counts.index)"
   ]
  },
  {
   "cell_type": "code",
   "execution_count": 30,
   "metadata": {
    "scrolled": false
   },
   "outputs": [
    {
     "data": {
      "text/plain": [
       "<matplotlib.axes._subplots.AxesSubplot at 0x1a265f64e0>"
      ]
     },
     "execution_count": 30,
     "metadata": {},
     "output_type": "execute_result"
    },
    {
     "data": {
      "image/png": "[encoded data removed]",
      "text/plain": [
       "<Figure size 432x288 with 1 Axes>"
      ]
     },
     "metadata": {
      "needs_background": "light"
     },
     "output_type": "display_data"
    }
   ],
   "source": [
    "helpful_by_co_mean = co_stars_provided.groupby('career-opportunities-stars')['helpful-count'].agg('mean')\n",
    "helpful_by_co_mean.name = 'Average helpfulness'\n",
    "seaborn.barplot(y=helpful_by_co_mean, x=helpful_by_co_mean.index)"
   ]
  },
  {
   "cell_type": "markdown",
   "metadata": {},
   "source": [
    "#### Helpfulness by comp benefits stars"
   ]
  },
  {
   "cell_type": "code",
   "execution_count": 31,
   "metadata": {},
   "outputs": [
    {
     "data": {
      "text/plain": [
       "<matplotlib.axes._subplots.AxesSubplot at 0x1a2a34f748>"
      ]
     },
     "execution_count": 31,
     "metadata": {},
     "output_type": "execute_result"
    },
    {
     "data": {
      "image/png": "[encoded data removed]",
      "text/plain": [
       "<Figure size 432x288 with 1 Axes>"
      ]
     },
     "metadata": {
      "needs_background": "light"
     },
     "output_type": "display_data"
    }
   ],
   "source": [
    "helpful_by_cb_counts = cb_stars_provided.groupby('comp-benefit-stars')['helpful-count'].agg('sum')\n",
    "helpful_by_cb_counts.name = 'Total helpfulness'\n",
    "seaborn.barplot(y=helpful_by_cb_counts, x=helpful_by_cb_counts.index)"
   ]
  },
  {
   "cell_type": "code",
   "execution_count": 32,
   "metadata": {
    "scrolled": true
   },
   "outputs": [
    {
     "data": {
      "text/plain": [
       "<matplotlib.axes._subplots.AxesSubplot at 0x1a27215a58>"
      ]
     },
     "execution_count": 32,
     "metadata": {},
     "output_type": "execute_result"
    },
    {
     "data": {
      "image/png": "[encoded data removed]",
      "text/plain": [
       "<Figure size 432x288 with 1 Axes>"
      ]
     },
     "metadata": {
      "needs_background": "light"
     },
     "output_type": "display_data"
    }
   ],
   "source": [
    "helpful_by_cb_mean = cb_stars_provided.groupby('comp-benefit-stars')['helpful-count'].agg('mean')\n",
    "helpful_by_cb_mean.name = 'Average helpfulness'\n",
    "seaborn.barplot(y=helpful_by_cb_mean, x=helpful_by_cb_mean.index)"
   ]
  },
  {
   "cell_type": "markdown",
   "metadata": {},
   "source": [
    "#### Helpfulness by senior management stars"
   ]
  },
  {
   "cell_type": "code",
   "execution_count": 33,
   "metadata": {},
   "outputs": [
    {
     "data": {
      "text/plain": [
       "<matplotlib.axes._subplots.AxesSubplot at 0x1a2a0e0c18>"
      ]
     },
     "execution_count": 33,
     "metadata": {},
     "output_type": "execute_result"
    },
    {
     "data": {
      "image/png": "[encoded data removed]",
      "text/plain": [
       "<Figure size 432x288 with 1 Axes>"
      ]
     },
     "metadata": {
      "needs_background": "light"
     },
     "output_type": "display_data"
    }
   ],
   "source": [
    "helpful_by_sm_counts = sm_stars_provided.groupby('senior-management-stars')['helpful-count'].agg('sum')\n",
    "helpful_by_sm_counts.name = 'Total helpfulness'\n",
    "seaborn.barplot(y=helpful_by_sm_counts, x=helpful_by_sm_counts.index)"
   ]
  },
  {
   "cell_type": "code",
   "execution_count": 34,
   "metadata": {},
   "outputs": [
    {
     "data": {
      "text/plain": [
       "<matplotlib.axes._subplots.AxesSubplot at 0x1a27053780>"
      ]
     },
     "execution_count": 34,
     "metadata": {},
     "output_type": "execute_result"
    },
    {
     "data": {
      "image/png": "[encoded data removed]",
      "text/plain": [
       "<Figure size 432x288 with 1 Axes>"
      ]
     },
     "metadata": {
      "needs_background": "light"
     },
     "output_type": "display_data"
    }
   ],
   "source": [
    "helpful_by_sm_mean = sm_stars_provided.groupby('senior-management-stars')['helpful-count'].agg('mean')\n",
    "helpful_by_sm_mean.name = 'Average helpfulness'\n",
    "seaborn.barplot(y=helpful_by_sm_mean, x=helpful_by_sm_mean.index)"
   ]
  },
  {
   "cell_type": "markdown",
   "metadata": {},
   "source": [
    "#### Conclusions\n",
    "There does seem to be some inverse relationship between number of sub-section stars and average helpfulness, similar to the overall rating.  I would have liked to have used some kind of correlation coefficient test to investigate the relationships more deeply, but couldn't figure out how to implement a correlation test between strictly categorical values (# of stars) and an integer value.  By visual inspection, though, the _strongest_ relationships seem to be with:\n",
    "* Career opportunities\n",
    "* Comp benefits\n",
    "* Work balance"
   ]
  },
  {
   "cell_type": "markdown",
   "metadata": {},
   "source": [
    "### Helpfulness vs. length of feedback\n",
    "The last aspect I want to consider is whether or not the length of the feedback is correlated with helpfulness.  I could see this being either a positive or negative correlation - people are more likely to read and therefore endorse short reviews, _or_ people get more out of longer reviews and are more likely to endorse them.  Does such a relationship exist?\n",
    "\n",
    "To start with, let's add columns indicating the length of each review's text features (except for summary, since this is intended to be a short title anyway):"
   ]
  },
  {
   "cell_type": "code",
   "execution_count": 35,
   "metadata": {
    "scrolled": false
   },
   "outputs": [
    {
     "data": {
      "text/html": [
       "<div>\n",
       "<style scoped>\n",
       "    .dataframe tbody tr th:only-of-type {\n",
       "        vertical-align: middle;\n",
       "    }\n",
       "\n",
       "    .dataframe tbody tr th {\n",
       "        vertical-align: top;\n",
       "    }\n",
       "\n",
       "    .dataframe thead th {\n",
       "        text-align: right;\n",
       "    }\n",
       "</style>\n",
       "<table border=\"1\" class=\"dataframe\">\n",
       "  <thead>\n",
       "    <tr style=\"text-align: right;\">\n",
       "      <th></th>\n",
       "      <th>pros-length</th>\n",
       "      <th>cons-length</th>\n",
       "      <th>advice-length</th>\n",
       "    </tr>\n",
       "  </thead>\n",
       "  <tbody>\n",
       "    <tr>\n",
       "      <th>1</th>\n",
       "      <td>29</td>\n",
       "      <td>34</td>\n",
       "      <td>4.0</td>\n",
       "    </tr>\n",
       "    <tr>\n",
       "      <th>2</th>\n",
       "      <td>1048</td>\n",
       "      <td>2403</td>\n",
       "      <td>1004.0</td>\n",
       "    </tr>\n",
       "    <tr>\n",
       "      <th>3</th>\n",
       "      <td>3634</td>\n",
       "      <td>1064</td>\n",
       "      <td>56.0</td>\n",
       "    </tr>\n",
       "    <tr>\n",
       "      <th>4</th>\n",
       "      <td>1572</td>\n",
       "      <td>2614</td>\n",
       "      <td>295.0</td>\n",
       "    </tr>\n",
       "    <tr>\n",
       "      <th>5</th>\n",
       "      <td>8175</td>\n",
       "      <td>4694</td>\n",
       "      <td>333.0</td>\n",
       "    </tr>\n",
       "  </tbody>\n",
       "</table>\n",
       "</div>"
      ],
      "text/plain": [
       "   pros-length  cons-length  advice-length\n",
       "1           29           34            4.0\n",
       "2         1048         2403         1004.0\n",
       "3         3634         1064           56.0\n",
       "4         1572         2614          295.0\n",
       "5         8175         4694          333.0"
      ]
     },
     "execution_count": 35,
     "metadata": {},
     "output_type": "execute_result"
    }
   ],
   "source": [
    "data['pros-length'] = data['pros'].str.len()\n",
    "data['cons-length'] = data['cons'].str.len()\n",
    "data['advice-length'] = data['advice-to-mgmt'].str.len()\n",
    "\n",
    "data[['pros-length', 'cons-length', 'advice-length']].head()"
   ]
  },
  {
   "cell_type": "code",
   "execution_count": 36,
   "metadata": {},
   "outputs": [
    {
     "data": {
      "text/html": [
       "<div>\n",
       "<style scoped>\n",
       "    .dataframe tbody tr th:only-of-type {\n",
       "        vertical-align: middle;\n",
       "    }\n",
       "\n",
       "    .dataframe tbody tr th {\n",
       "        vertical-align: top;\n",
       "    }\n",
       "\n",
       "    .dataframe thead th {\n",
       "        text-align: right;\n",
       "    }\n",
       "</style>\n",
       "<table border=\"1\" class=\"dataframe\">\n",
       "  <thead>\n",
       "    <tr style=\"text-align: right;\">\n",
       "      <th></th>\n",
       "      <th>pros-length</th>\n",
       "      <th>cons-length</th>\n",
       "      <th>advice-length</th>\n",
       "    </tr>\n",
       "  </thead>\n",
       "  <tbody>\n",
       "    <tr>\n",
       "      <th>count</th>\n",
       "      <td>67529.000000</td>\n",
       "      <td>67529.000000</td>\n",
       "      <td>67232.000000</td>\n",
       "    </tr>\n",
       "    <tr>\n",
       "      <th>mean</th>\n",
       "      <td>127.954997</td>\n",
       "      <td>175.860978</td>\n",
       "      <td>75.991775</td>\n",
       "    </tr>\n",
       "    <tr>\n",
       "      <th>std</th>\n",
       "      <td>169.220416</td>\n",
       "      <td>321.067735</td>\n",
       "      <td>146.024889</td>\n",
       "    </tr>\n",
       "    <tr>\n",
       "      <th>min</th>\n",
       "      <td>8.000000</td>\n",
       "      <td>4.000000</td>\n",
       "      <td>1.000000</td>\n",
       "    </tr>\n",
       "    <tr>\n",
       "      <th>25%</th>\n",
       "      <td>46.000000</td>\n",
       "      <td>45.000000</td>\n",
       "      <td>4.000000</td>\n",
       "    </tr>\n",
       "    <tr>\n",
       "      <th>50%</th>\n",
       "      <td>79.000000</td>\n",
       "      <td>87.000000</td>\n",
       "      <td>21.000000</td>\n",
       "    </tr>\n",
       "    <tr>\n",
       "      <th>75%</th>\n",
       "      <td>149.000000</td>\n",
       "      <td>179.000000</td>\n",
       "      <td>100.000000</td>\n",
       "    </tr>\n",
       "    <tr>\n",
       "      <th>max</th>\n",
       "      <td>8175.000000</td>\n",
       "      <td>13407.000000</td>\n",
       "      <td>5702.000000</td>\n",
       "    </tr>\n",
       "  </tbody>\n",
       "</table>\n",
       "</div>"
      ],
      "text/plain": [
       "        pros-length   cons-length  advice-length\n",
       "count  67529.000000  67529.000000   67232.000000\n",
       "mean     127.954997    175.860978      75.991775\n",
       "std      169.220416    321.067735     146.024889\n",
       "min        8.000000      4.000000       1.000000\n",
       "25%       46.000000     45.000000       4.000000\n",
       "50%       79.000000     87.000000      21.000000\n",
       "75%      149.000000    179.000000     100.000000\n",
       "max     8175.000000  13407.000000    5702.000000"
      ]
     },
     "execution_count": 36,
     "metadata": {},
     "output_type": "execute_result"
    }
   ],
   "source": [
    "data[['pros-length', 'cons-length', 'advice-length']].describe()"
   ]
  },
  {
   "cell_type": "code",
   "execution_count": 37,
   "metadata": {},
   "outputs": [
    {
     "data": {
      "text/plain": [
       "<matplotlib.axes._subplots.AxesSubplot at 0x1a23486b70>"
      ]
     },
     "execution_count": 37,
     "metadata": {},
     "output_type": "execute_result"
    },
    {
     "data": {
      "image/png": "[encoded data removed]",
      "text/plain": [
       "<Figure size 432x288 with 1 Axes>"
      ]
     },
     "metadata": {
      "needs_background": "light"
     },
     "output_type": "display_data"
    }
   ],
   "source": [
    "seaborn.scatterplot(data=data, x='pros-length', y='helpful-count')"
   ]
  },
  {
   "cell_type": "code",
   "execution_count": 38,
   "metadata": {
    "scrolled": true
   },
   "outputs": [
    {
     "data": {
      "text/plain": [
       "<matplotlib.axes._subplots.AxesSubplot at 0x1a2a2e5ac8>"
      ]
     },
     "execution_count": 38,
     "metadata": {},
     "output_type": "execute_result"
    },
    {
     "data": {
      "image/png": "[encoded data removed]",
      "text/plain": [
       "<Figure size 432x288 with 1 Axes>"
      ]
     },
     "metadata": {
      "needs_background": "light"
     },
     "output_type": "display_data"
    }
   ],
   "source": [
    "seaborn.scatterplot(data=data, x='cons-length', y='helpful-count')"
   ]
  },
  {
   "cell_type": "code",
   "execution_count": 39,
   "metadata": {},
   "outputs": [
    {
     "data": {
      "text/plain": [
       "<matplotlib.axes._subplots.AxesSubplot at 0x1a2a2e5160>"
      ]
     },
     "execution_count": 39,
     "metadata": {},
     "output_type": "execute_result"
    },
    {
     "data": {
      "image/png": "[encoded data removed]",
      "text/plain": [
       "<Figure size 432x288 with 1 Axes>"
      ]
     },
     "metadata": {
      "needs_background": "light"
     },
     "output_type": "display_data"
    }
   ],
   "source": [
    "seaborn.scatterplot(data=data, x='advice-length', y='helpful-count')"
   ]
  },
  {
   "cell_type": "code",
   "execution_count": 41,
   "metadata": {},
   "outputs": [
    {
     "data": {
      "text/plain": [
       "<matplotlib.axes._subplots.AxesSubplot at 0x1a2af7ba58>"
      ]
     },
     "execution_count": 41,
     "metadata": {},
     "output_type": "execute_result"
    },
    {
     "data": {
      "image/png": "[encoded data removed]",
      "text/plain": [
       "<Figure size 432x288 with 2 Axes>"
      ]
     },
     "metadata": {
      "needs_background": "light"
     },
     "output_type": "display_data"
    }
   ],
   "source": [
    "seaborn.heatmap(data[['pros-length', 'cons-length', 'advice-length', 'helpful-count']].corr())"
   ]
  },
  {
   "cell_type": "markdown",
   "metadata": {},
   "source": [
    "#### Conclusions\n",
    "\n",
    "EVerything strongly suggests there is no correlation between the helpful-count and the length of the advice.  The last aspect I'll explore in this project is whether or not we can predict helpfulness using basic textual analysis techniques, but that doesn't lend itself well to visualization and will be demonstrated in the Modeling section below."
   ]
  },
  {
   "cell_type": "markdown",
   "metadata": {},
   "source": [
    "## 5. Modeling & Analysis\n",
    "### Model 1: Linear Regression - Rating vs. Helpfulness\n",
    "The first avenue to explore is the possible relationship seen between the star ratings, and the review's helpfulness.  Since we have more than 1 input variable, I chose the statsmodels OLS method (rather than scipy linregress).\n",
    "\n",
    "Since this method uses the Patsy formula language, which doesn't play well with dashes in column names, I created duplicate columns named y, x1, x2, etc.  However, first I whittled down the dataset to _only_ those rows with star values provided for every subsection (work balance, comp benefits, etc.).  I found that this didn't impact the model accuracy at all, but it simply allowed me to avoid having NaN entries in the manually-computed regression vector when I was evaluating the results."
   ]
  },
  {
   "cell_type": "markdown",
   "metadata": {},
   "source": [
    "#### Model Setup"
   ]
  },
  {
   "cell_type": "code",
   "execution_count": 42,
   "metadata": {
    "scrolled": false
   },
   "outputs": [
    {
     "data": {
      "text/html": [
       "<table class=\"simpletable\">\n",
       "<caption>OLS Regression Results</caption>\n",
       "<tr>\n",
       "  <th>Dep. Variable:</th>            <td>y</td>        <th>  R-squared:         </th>  <td>   0.003</td>  \n",
       "</tr>\n",
       "<tr>\n",
       "  <th>Model:</th>                   <td>OLS</td>       <th>  Adj. R-squared:    </th>  <td>   0.003</td>  \n",
       "</tr>\n",
       "<tr>\n",
       "  <th>Method:</th>             <td>Least Squares</td>  <th>  F-statistic:       </th>  <td>   18.21</td>  \n",
       "</tr>\n",
       "<tr>\n",
       "  <th>Date:</th>             <td>Wed, 20 Mar 2019</td> <th>  Prob (F-statistic):</th>  <td>3.16e-21</td>  \n",
       "</tr>\n",
       "<tr>\n",
       "  <th>Time:</th>                 <td>12:18:25</td>     <th>  Log-Likelihood:    </th> <td>-1.6672e+05</td>\n",
       "</tr>\n",
       "<tr>\n",
       "  <th>No. Observations:</th>      <td> 39916</td>      <th>  AIC:               </th>  <td>3.335e+05</td> \n",
       "</tr>\n",
       "<tr>\n",
       "  <th>Df Residuals:</th>          <td> 39909</td>      <th>  BIC:               </th>  <td>3.335e+05</td> \n",
       "</tr>\n",
       "<tr>\n",
       "  <th>Df Model:</th>              <td>     6</td>      <th>                     </th>      <td> </td>     \n",
       "</tr>\n",
       "<tr>\n",
       "  <th>Covariance Type:</th>      <td>nonrobust</td>    <th>                     </th>      <td> </td>     \n",
       "</tr>\n",
       "</table>\n",
       "<table class=\"simpletable\">\n",
       "<tr>\n",
       "      <td></td>         <th>coef</th>     <th>std err</th>      <th>t</th>      <th>P>|t|</th>  <th>[0.025</th>    <th>0.975]</th>  \n",
       "</tr>\n",
       "<tr>\n",
       "  <th>Intercept</th> <td>    3.3632</td> <td>    0.336</td> <td>   10.011</td> <td> 0.000</td> <td>    2.705</td> <td>    4.022</td>\n",
       "</tr>\n",
       "<tr>\n",
       "  <th>x1</th>        <td>   -0.5041</td> <td>    0.127</td> <td>   -3.960</td> <td> 0.000</td> <td>   -0.754</td> <td>   -0.255</td>\n",
       "</tr>\n",
       "<tr>\n",
       "  <th>x2</th>        <td>   -0.2566</td> <td>    0.079</td> <td>   -3.233</td> <td> 0.001</td> <td>   -0.412</td> <td>   -0.101</td>\n",
       "</tr>\n",
       "<tr>\n",
       "  <th>x3</th>        <td>   -0.3194</td> <td>    0.101</td> <td>   -3.147</td> <td> 0.002</td> <td>   -0.518</td> <td>   -0.120</td>\n",
       "</tr>\n",
       "<tr>\n",
       "  <th>x4</th>        <td>    0.2504</td> <td>    0.093</td> <td>    2.704</td> <td> 0.007</td> <td>    0.069</td> <td>    0.432</td>\n",
       "</tr>\n",
       "<tr>\n",
       "  <th>x5</th>        <td>   -0.0196</td> <td>    0.094</td> <td>   -0.209</td> <td> 0.835</td> <td>   -0.204</td> <td>    0.164</td>\n",
       "</tr>\n",
       "<tr>\n",
       "  <th>x6</th>        <td>    0.2986</td> <td>    0.098</td> <td>    3.052</td> <td> 0.002</td> <td>    0.107</td> <td>    0.490</td>\n",
       "</tr>\n",
       "</table>\n",
       "<table class=\"simpletable\">\n",
       "<tr>\n",
       "  <th>Omnibus:</th>       <td>146101.285</td> <th>  Durbin-Watson:     </th>    <td>   2.001</td>    \n",
       "</tr>\n",
       "<tr>\n",
       "  <th>Prob(Omnibus):</th>   <td> 0.000</td>   <th>  Jarque-Bera (JB):  </th> <td>83981454322.966</td>\n",
       "</tr>\n",
       "<tr>\n",
       "  <th>Skew:</th>            <td>77.894</td>   <th>  Prob(JB):          </th>    <td>    0.00</td>    \n",
       "</tr>\n",
       "<tr>\n",
       "  <th>Kurtosis:</th>       <td>7107.269</td>  <th>  Cond. No.          </th>    <td>    40.3</td>    \n",
       "</tr>\n",
       "</table><br/><br/>Warnings:<br/>[1] Standard Errors assume that the covariance matrix of the errors is correctly specified."
      ],
      "text/plain": [
       "<class 'statsmodels.iolib.summary.Summary'>\n",
       "\"\"\"\n",
       "                            OLS Regression Results                            \n",
       "==============================================================================\n",
       "Dep. Variable:                      y   R-squared:                       0.003\n",
       "Model:                            OLS   Adj. R-squared:                  0.003\n",
       "Method:                 Least Squares   F-statistic:                     18.21\n",
       "Date:                Wed, 20 Mar 2019   Prob (F-statistic):           3.16e-21\n",
       "Time:                        12:18:25   Log-Likelihood:            -1.6672e+05\n",
       "No. Observations:               39916   AIC:                         3.335e+05\n",
       "Df Residuals:                   39909   BIC:                         3.335e+05\n",
       "Df Model:                           6                                         \n",
       "Covariance Type:            nonrobust                                         \n",
       "==============================================================================\n",
       "                 coef    std err          t      P>|t|      [0.025      0.975]\n",
       "------------------------------------------------------------------------------\n",
       "Intercept      3.3632      0.336     10.011      0.000       2.705       4.022\n",
       "x1            -0.5041      0.127     -3.960      0.000      -0.754      -0.255\n",
       "x2            -0.2566      0.079     -3.233      0.001      -0.412      -0.101\n",
       "x3            -0.3194      0.101     -3.147      0.002      -0.518      -0.120\n",
       "x4             0.2504      0.093      2.704      0.007       0.069       0.432\n",
       "x5            -0.0196      0.094     -0.209      0.835      -0.204       0.164\n",
       "x6             0.2986      0.098      3.052      0.002       0.107       0.490\n",
       "==============================================================================\n",
       "Omnibus:                   146101.285   Durbin-Watson:                   2.001\n",
       "Prob(Omnibus):                  0.000   Jarque-Bera (JB):      83981454322.966\n",
       "Skew:                          77.894   Prob(JB):                         0.00\n",
       "Kurtosis:                    7107.269   Cond. No.                         40.3\n",
       "==============================================================================\n",
       "\n",
       "Warnings:\n",
       "[1] Standard Errors assume that the covariance matrix of the errors is correctly specified.\n",
       "\"\"\""
      ]
     },
     "execution_count": 42,
     "metadata": {},
     "output_type": "execute_result"
    }
   ],
   "source": [
    "import statsmodels.formula.api as smf\n",
    "from sklearn import model_selection, metrics\n",
    "\n",
    "pandas.options.mode.chained_assignment = None\n",
    "\n",
    "model_data = data[pandas.notna(data['work-balance-stars'])\n",
    "                 & pandas.notna(data['culture-values-stars'])\n",
    "                 & pandas.notna(data['comp-benefit-stars'])\n",
    "                 & pandas.notna(data['career-opportunities-stars'])\n",
    "                 & pandas.notna(data['senior-management-stars'])]\n",
    "\n",
    "model_data['y'] = model_data['helpful-count']\n",
    "model_data['x1'] = model_data['overall-ratings']\n",
    "model_data['x2'] = model_data['work-balance-stars']\n",
    "model_data['x3'] = model_data['culture-values-stars']\n",
    "model_data['x4'] = model_data['comp-benefit-stars']\n",
    "model_data['x5'] = model_data['career-opportunities-stars']\n",
    "model_data['x6'] = model_data['senior-management-stars']\n",
    "\n",
    "training_set, test_set = model_selection.train_test_split(model_data)\n",
    "\n",
    "helpfulness_predictor = smf.ols(formula = \"y ~ x1 + x2 + x3 + x4 + x5 + x6\", data=training_set).fit()\n",
    "helpfulness_predictor.summary()"
   ]
  },
  {
   "cell_type": "markdown",
   "metadata": {},
   "source": [
    "It immediately appears that the R-squared value is _very_ low, and also the P>|t| value for x5 is very high (which is interesting, because x5 corresponds to career opportunities stars, one of the ratings that on visual inspection seemed to be highly correlated with helpfulness).\n",
    "\n",
    "Let's redo the model, removing x5:"
   ]
  },
  {
   "cell_type": "code",
   "execution_count": 43,
   "metadata": {},
   "outputs": [
    {
     "data": {
      "text/html": [
       "<table class=\"simpletable\">\n",
       "<caption>OLS Regression Results</caption>\n",
       "<tr>\n",
       "  <th>Dep. Variable:</th>            <td>y</td>        <th>  R-squared:         </th>  <td>   0.003</td>  \n",
       "</tr>\n",
       "<tr>\n",
       "  <th>Model:</th>                   <td>OLS</td>       <th>  Adj. R-squared:    </th>  <td>   0.003</td>  \n",
       "</tr>\n",
       "<tr>\n",
       "  <th>Method:</th>             <td>Least Squares</td>  <th>  F-statistic:       </th>  <td>   21.84</td>  \n",
       "</tr>\n",
       "<tr>\n",
       "  <th>Date:</th>             <td>Wed, 20 Mar 2019</td> <th>  Prob (F-statistic):</th>  <td>6.51e-22</td>  \n",
       "</tr>\n",
       "<tr>\n",
       "  <th>Time:</th>                 <td>12:18:29</td>     <th>  Log-Likelihood:    </th> <td>-1.6672e+05</td>\n",
       "</tr>\n",
       "<tr>\n",
       "  <th>No. Observations:</th>      <td> 39916</td>      <th>  AIC:               </th>  <td>3.335e+05</td> \n",
       "</tr>\n",
       "<tr>\n",
       "  <th>Df Residuals:</th>          <td> 39910</td>      <th>  BIC:               </th>  <td>3.335e+05</td> \n",
       "</tr>\n",
       "<tr>\n",
       "  <th>Df Model:</th>              <td>     5</td>      <th>                     </th>      <td> </td>     \n",
       "</tr>\n",
       "<tr>\n",
       "  <th>Covariance Type:</th>      <td>nonrobust</td>    <th>                     </th>      <td> </td>     \n",
       "</tr>\n",
       "</table>\n",
       "<table class=\"simpletable\">\n",
       "<tr>\n",
       "      <td></td>         <th>coef</th>     <th>std err</th>      <th>t</th>      <th>P>|t|</th>  <th>[0.025</th>    <th>0.975]</th>  \n",
       "</tr>\n",
       "<tr>\n",
       "  <th>Intercept</th> <td>    3.3553</td> <td>    0.334</td> <td>   10.052</td> <td> 0.000</td> <td>    2.701</td> <td>    4.010</td>\n",
       "</tr>\n",
       "<tr>\n",
       "  <th>x1</th>        <td>   -0.5126</td> <td>    0.121</td> <td>   -4.247</td> <td> 0.000</td> <td>   -0.749</td> <td>   -0.276</td>\n",
       "</tr>\n",
       "<tr>\n",
       "  <th>x2</th>        <td>   -0.2564</td> <td>    0.079</td> <td>   -3.230</td> <td> 0.001</td> <td>   -0.412</td> <td>   -0.101</td>\n",
       "</tr>\n",
       "<tr>\n",
       "  <th>x3</th>        <td>   -0.3200</td> <td>    0.101</td> <td>   -3.154</td> <td> 0.002</td> <td>   -0.519</td> <td>   -0.121</td>\n",
       "</tr>\n",
       "<tr>\n",
       "  <th>x4</th>        <td>    0.2466</td> <td>    0.091</td> <td>    2.715</td> <td> 0.007</td> <td>    0.069</td> <td>    0.425</td>\n",
       "</tr>\n",
       "<tr>\n",
       "  <th>x6</th>        <td>    0.2941</td> <td>    0.095</td> <td>    3.082</td> <td> 0.002</td> <td>    0.107</td> <td>    0.481</td>\n",
       "</tr>\n",
       "</table>\n",
       "<table class=\"simpletable\">\n",
       "<tr>\n",
       "  <th>Omnibus:</th>       <td>146100.894</td> <th>  Durbin-Watson:     </th>    <td>   2.001</td>    \n",
       "</tr>\n",
       "<tr>\n",
       "  <th>Prob(Omnibus):</th>   <td> 0.000</td>   <th>  Jarque-Bera (JB):  </th> <td>83979540255.430</td>\n",
       "</tr>\n",
       "<tr>\n",
       "  <th>Skew:</th>            <td>77.894</td>   <th>  Prob(JB):          </th>    <td>    0.00</td>    \n",
       "</tr>\n",
       "<tr>\n",
       "  <th>Kurtosis:</th>       <td>7107.188</td>  <th>  Cond. No.          </th>    <td>    36.7</td>    \n",
       "</tr>\n",
       "</table><br/><br/>Warnings:<br/>[1] Standard Errors assume that the covariance matrix of the errors is correctly specified."
      ],
      "text/plain": [
       "<class 'statsmodels.iolib.summary.Summary'>\n",
       "\"\"\"\n",
       "                            OLS Regression Results                            \n",
       "==============================================================================\n",
       "Dep. Variable:                      y   R-squared:                       0.003\n",
       "Model:                            OLS   Adj. R-squared:                  0.003\n",
       "Method:                 Least Squares   F-statistic:                     21.84\n",
       "Date:                Wed, 20 Mar 2019   Prob (F-statistic):           6.51e-22\n",
       "Time:                        12:18:29   Log-Likelihood:            -1.6672e+05\n",
       "No. Observations:               39916   AIC:                         3.335e+05\n",
       "Df Residuals:                   39910   BIC:                         3.335e+05\n",
       "Df Model:                           5                                         \n",
       "Covariance Type:            nonrobust                                         \n",
       "==============================================================================\n",
       "                 coef    std err          t      P>|t|      [0.025      0.975]\n",
       "------------------------------------------------------------------------------\n",
       "Intercept      3.3553      0.334     10.052      0.000       2.701       4.010\n",
       "x1            -0.5126      0.121     -4.247      0.000      -0.749      -0.276\n",
       "x2            -0.2564      0.079     -3.230      0.001      -0.412      -0.101\n",
       "x3            -0.3200      0.101     -3.154      0.002      -0.519      -0.121\n",
       "x4             0.2466      0.091      2.715      0.007       0.069       0.425\n",
       "x6             0.2941      0.095      3.082      0.002       0.107       0.481\n",
       "==============================================================================\n",
       "Omnibus:                   146100.894   Durbin-Watson:                   2.001\n",
       "Prob(Omnibus):                  0.000   Jarque-Bera (JB):      83979540255.430\n",
       "Skew:                          77.894   Prob(JB):                         0.00\n",
       "Kurtosis:                    7107.188   Cond. No.                         36.7\n",
       "==============================================================================\n",
       "\n",
       "Warnings:\n",
       "[1] Standard Errors assume that the covariance matrix of the errors is correctly specified.\n",
       "\"\"\""
      ]
     },
     "execution_count": 43,
     "metadata": {},
     "output_type": "execute_result"
    }
   ],
   "source": [
    "helpfulness_predictor = smf.ols(formula = \"y ~ x1 + x2 + x3 + x4 + x6\", data=training_set).fit()\n",
    "helpfulness_predictor.summary()"
   ]
  },
  {
   "cell_type": "markdown",
   "metadata": {},
   "source": [
    "The R-squared is still abysmal, but at least the P-values are looking a bit better.\n",
    "\n",
    "Let's also examine a model using _just_ the overall rating and the 3 subsections that looked like they were most strongly correlated earlier, i.e. work balance, comp benefits, and career opportunities:"
   ]
  },
  {
   "cell_type": "code",
   "execution_count": 44,
   "metadata": {},
   "outputs": [
    {
     "data": {
      "text/html": [
       "<table class=\"simpletable\">\n",
       "<caption>OLS Regression Results</caption>\n",
       "<tr>\n",
       "  <th>Dep. Variable:</th>            <td>y</td>        <th>  R-squared:         </th>  <td>   0.002</td>  \n",
       "</tr>\n",
       "<tr>\n",
       "  <th>Model:</th>                   <td>OLS</td>       <th>  Adj. R-squared:    </th>  <td>   0.002</td>  \n",
       "</tr>\n",
       "<tr>\n",
       "  <th>Method:</th>             <td>Least Squares</td>  <th>  F-statistic:       </th>  <td>   23.63</td>  \n",
       "</tr>\n",
       "<tr>\n",
       "  <th>Date:</th>             <td>Wed, 20 Mar 2019</td> <th>  Prob (F-statistic):</th>  <td>1.52e-19</td>  \n",
       "</tr>\n",
       "<tr>\n",
       "  <th>Time:</th>                 <td>12:18:32</td>     <th>  Log-Likelihood:    </th> <td>-1.6673e+05</td>\n",
       "</tr>\n",
       "<tr>\n",
       "  <th>No. Observations:</th>      <td> 39916</td>      <th>  AIC:               </th>  <td>3.335e+05</td> \n",
       "</tr>\n",
       "<tr>\n",
       "  <th>Df Residuals:</th>          <td> 39911</td>      <th>  BIC:               </th>  <td>3.335e+05</td> \n",
       "</tr>\n",
       "<tr>\n",
       "  <th>Df Model:</th>              <td>     4</td>      <th>                     </th>      <td> </td>     \n",
       "</tr>\n",
       "<tr>\n",
       "  <th>Covariance Type:</th>      <td>nonrobust</td>    <th>                     </th>      <td> </td>     \n",
       "</tr>\n",
       "</table>\n",
       "<table class=\"simpletable\">\n",
       "<tr>\n",
       "      <td></td>         <th>coef</th>     <th>std err</th>      <th>t</th>      <th>P>|t|</th>  <th>[0.025</th>    <th>0.975]</th>  \n",
       "</tr>\n",
       "<tr>\n",
       "  <th>Intercept</th> <td>    3.1966</td> <td>    0.333</td> <td>    9.595</td> <td> 0.000</td> <td>    2.544</td> <td>    3.850</td>\n",
       "</tr>\n",
       "<tr>\n",
       "  <th>x1</th>        <td>   -0.5660</td> <td>    0.108</td> <td>   -5.240</td> <td> 0.000</td> <td>   -0.778</td> <td>   -0.354</td>\n",
       "</tr>\n",
       "<tr>\n",
       "  <th>x2</th>        <td>   -0.2495</td> <td>    0.077</td> <td>   -3.253</td> <td> 0.001</td> <td>   -0.400</td> <td>   -0.099</td>\n",
       "</tr>\n",
       "<tr>\n",
       "  <th>x4</th>        <td>    0.2542</td> <td>    0.092</td> <td>    2.752</td> <td> 0.006</td> <td>    0.073</td> <td>    0.435</td>\n",
       "</tr>\n",
       "<tr>\n",
       "  <th>x5</th>        <td>    0.0216</td> <td>    0.091</td> <td>    0.237</td> <td> 0.813</td> <td>   -0.157</td> <td>    0.200</td>\n",
       "</tr>\n",
       "</table>\n",
       "<table class=\"simpletable\">\n",
       "<tr>\n",
       "  <th>Omnibus:</th>       <td>146102.788</td> <th>  Durbin-Watson:     </th>    <td>   2.001</td>    \n",
       "</tr>\n",
       "<tr>\n",
       "  <th>Prob(Omnibus):</th>   <td> 0.000</td>   <th>  Jarque-Bera (JB):  </th> <td>83971479942.156</td>\n",
       "</tr>\n",
       "<tr>\n",
       "  <th>Skew:</th>            <td>77.897</td>   <th>  Prob(JB):          </th>    <td>    0.00</td>    \n",
       "</tr>\n",
       "<tr>\n",
       "  <th>Kurtosis:</th>       <td>7106.847</td>  <th>  Cond. No.          </th>    <td>    33.0</td>    \n",
       "</tr>\n",
       "</table><br/><br/>Warnings:<br/>[1] Standard Errors assume that the covariance matrix of the errors is correctly specified."
      ],
      "text/plain": [
       "<class 'statsmodels.iolib.summary.Summary'>\n",
       "\"\"\"\n",
       "                            OLS Regression Results                            \n",
       "==============================================================================\n",
       "Dep. Variable:                      y   R-squared:                       0.002\n",
       "Model:                            OLS   Adj. R-squared:                  0.002\n",
       "Method:                 Least Squares   F-statistic:                     23.63\n",
       "Date:                Wed, 20 Mar 2019   Prob (F-statistic):           1.52e-19\n",
       "Time:                        12:18:32   Log-Likelihood:            -1.6673e+05\n",
       "No. Observations:               39916   AIC:                         3.335e+05\n",
       "Df Residuals:                   39911   BIC:                         3.335e+05\n",
       "Df Model:                           4                                         \n",
       "Covariance Type:            nonrobust                                         \n",
       "==============================================================================\n",
       "                 coef    std err          t      P>|t|      [0.025      0.975]\n",
       "------------------------------------------------------------------------------\n",
       "Intercept      3.1966      0.333      9.595      0.000       2.544       3.850\n",
       "x1            -0.5660      0.108     -5.240      0.000      -0.778      -0.354\n",
       "x2            -0.2495      0.077     -3.253      0.001      -0.400      -0.099\n",
       "x4             0.2542      0.092      2.752      0.006       0.073       0.435\n",
       "x5             0.0216      0.091      0.237      0.813      -0.157       0.200\n",
       "==============================================================================\n",
       "Omnibus:                   146102.788   Durbin-Watson:                   2.001\n",
       "Prob(Omnibus):                  0.000   Jarque-Bera (JB):      83971479942.156\n",
       "Skew:                          77.897   Prob(JB):                         0.00\n",
       "Kurtosis:                    7106.847   Cond. No.                         33.0\n",
       "==============================================================================\n",
       "\n",
       "Warnings:\n",
       "[1] Standard Errors assume that the covariance matrix of the errors is correctly specified.\n",
       "\"\"\""
      ]
     },
     "execution_count": 44,
     "metadata": {},
     "output_type": "execute_result"
    }
   ],
   "source": [
    "helpfulness_predictor_2 = smf.ols(formula = \"y ~ x1 + x2 + x4 + x5\", data=training_set).fit()\n",
    "helpfulness_predictor_2.summary()"
   ]
  },
  {
   "cell_type": "markdown",
   "metadata": {},
   "source": [
    "Again, a very high P>|t| for x5, and an ever-so-slightly higher R-squared."
   ]
  },
  {
   "cell_type": "markdown",
   "metadata": {},
   "source": [
    "#### Model Validation & Analysis\n",
    "\n",
    "First, let's refresh our memories as to what the original data looked like:"
   ]
  },
  {
   "cell_type": "code",
   "execution_count": 45,
   "metadata": {
    "scrolled": true
   },
   "outputs": [
    {
     "data": {
      "text/html": [
       "<div>\n",
       "<style scoped>\n",
       "    .dataframe tbody tr th:only-of-type {\n",
       "        vertical-align: middle;\n",
       "    }\n",
       "\n",
       "    .dataframe tbody tr th {\n",
       "        vertical-align: top;\n",
       "    }\n",
       "\n",
       "    .dataframe thead th {\n",
       "        text-align: right;\n",
       "    }\n",
       "</style>\n",
       "<table border=\"1\" class=\"dataframe\">\n",
       "  <thead>\n",
       "    <tr style=\"text-align: right;\">\n",
       "      <th></th>\n",
       "      <th>helpful-count</th>\n",
       "    </tr>\n",
       "  </thead>\n",
       "  <tbody>\n",
       "    <tr>\n",
       "      <th>count</th>\n",
       "      <td>67529.000000</td>\n",
       "    </tr>\n",
       "    <tr>\n",
       "      <th>mean</th>\n",
       "      <td>1.268211</td>\n",
       "    </tr>\n",
       "    <tr>\n",
       "      <th>std</th>\n",
       "      <td>16.085852</td>\n",
       "    </tr>\n",
       "    <tr>\n",
       "      <th>min</th>\n",
       "      <td>0.000000</td>\n",
       "    </tr>\n",
       "    <tr>\n",
       "      <th>25%</th>\n",
       "      <td>0.000000</td>\n",
       "    </tr>\n",
       "    <tr>\n",
       "      <th>50%</th>\n",
       "      <td>0.000000</td>\n",
       "    </tr>\n",
       "    <tr>\n",
       "      <th>75%</th>\n",
       "      <td>1.000000</td>\n",
       "    </tr>\n",
       "    <tr>\n",
       "      <th>max</th>\n",
       "      <td>2094.000000</td>\n",
       "    </tr>\n",
       "  </tbody>\n",
       "</table>\n",
       "</div>"
      ],
      "text/plain": [
       "       helpful-count\n",
       "count   67529.000000\n",
       "mean        1.268211\n",
       "std        16.085852\n",
       "min         0.000000\n",
       "25%         0.000000\n",
       "50%         0.000000\n",
       "75%         1.000000\n",
       "max      2094.000000"
      ]
     },
     "execution_count": 45,
     "metadata": {},
     "output_type": "execute_result"
    }
   ],
   "source": [
    "data[['helpful-count']].describe()"
   ]
  },
  {
   "cell_type": "markdown",
   "metadata": {},
   "source": [
    "Now we'll use our model to predict the helpful-count:"
   ]
  },
  {
   "cell_type": "code",
   "execution_count": 50,
   "metadata": {
    "scrolled": false
   },
   "outputs": [
    {
     "data": {
      "text/html": [
       "<div>\n",
       "<style scoped>\n",
       "    .dataframe tbody tr th:only-of-type {\n",
       "        vertical-align: middle;\n",
       "    }\n",
       "\n",
       "    .dataframe tbody tr th {\n",
       "        vertical-align: top;\n",
       "    }\n",
       "\n",
       "    .dataframe thead th {\n",
       "        text-align: right;\n",
       "    }\n",
       "</style>\n",
       "<table border=\"1\" class=\"dataframe\">\n",
       "  <thead>\n",
       "    <tr style=\"text-align: right;\">\n",
       "      <th></th>\n",
       "      <th>predicted</th>\n",
       "      <th>error</th>\n",
       "    </tr>\n",
       "  </thead>\n",
       "  <tbody>\n",
       "    <tr>\n",
       "      <th>count</th>\n",
       "      <td>13306.000000</td>\n",
       "      <td>13306.000000</td>\n",
       "    </tr>\n",
       "    <tr>\n",
       "      <th>mean</th>\n",
       "      <td>1.272307</td>\n",
       "      <td>1.677032</td>\n",
       "    </tr>\n",
       "    <tr>\n",
       "      <th>std</th>\n",
       "      <td>0.822644</td>\n",
       "      <td>19.372268</td>\n",
       "    </tr>\n",
       "    <tr>\n",
       "      <th>min</th>\n",
       "      <td>-1.549007</td>\n",
       "      <td>0.000865</td>\n",
       "    </tr>\n",
       "    <tr>\n",
       "      <th>25%</th>\n",
       "      <td>0.613822</td>\n",
       "      <td>0.611635</td>\n",
       "    </tr>\n",
       "    <tr>\n",
       "      <th>50%</th>\n",
       "      <td>1.126620</td>\n",
       "      <td>0.929459</td>\n",
       "    </tr>\n",
       "    <tr>\n",
       "      <th>75%</th>\n",
       "      <td>1.710406</td>\n",
       "      <td>1.639157</td>\n",
       "    </tr>\n",
       "    <tr>\n",
       "      <th>max</th>\n",
       "      <td>4.649807</td>\n",
       "      <td>2092.052530</td>\n",
       "    </tr>\n",
       "  </tbody>\n",
       "</table>\n",
       "</div>"
      ],
      "text/plain": [
       "          predicted         error\n",
       "count  13306.000000  13306.000000\n",
       "mean       1.272307      1.677032\n",
       "std        0.822644     19.372268\n",
       "min       -1.549007      0.000865\n",
       "25%        0.613822      0.611635\n",
       "50%        1.126620      0.929459\n",
       "75%        1.710406      1.639157\n",
       "max        4.649807   2092.052530"
      ]
     },
     "execution_count": 50,
     "metadata": {},
     "output_type": "execute_result"
    }
   ],
   "source": [
    "test_set['predicted'] = helpfulness_predictor.predict(test_set)\n",
    "test_set['error'] = (test_set['helpful-count'] - test_set['predicted']).abs()\n",
    "test_set.describe()[['predicted', 'error']]"
   ]
  },
  {
   "cell_type": "markdown",
   "metadata": {},
   "source": [
    "So some issues are immediately apparent.  Firstly, our model has predicted negative helpfulness values in some cases, which is not actually possible.  Secondly, the predicted values in the test set have a very similar mean to the  helpful-count in the original data, but the entire column is _extremely_ flattened - i.e. standard deviation and max have been from 16 to 0.86 and 2094 to 4.43, respectively.  Correspondingly, there are some huge errors for those exceptionally-helpful reviews we identified at the beginning.\n",
    "\n",
    "Does the model using just overall rating, career opportunities, comp benefits, and work balance fare any better?"
   ]
  },
  {
   "cell_type": "code",
   "execution_count": 47,
   "metadata": {
    "scrolled": false
   },
   "outputs": [
    {
     "data": {
      "text/html": [
       "<div>\n",
       "<style scoped>\n",
       "    .dataframe tbody tr th:only-of-type {\n",
       "        vertical-align: middle;\n",
       "    }\n",
       "\n",
       "    .dataframe tbody tr th {\n",
       "        vertical-align: top;\n",
       "    }\n",
       "\n",
       "    .dataframe thead th {\n",
       "        text-align: right;\n",
       "    }\n",
       "</style>\n",
       "<table border=\"1\" class=\"dataframe\">\n",
       "  <thead>\n",
       "    <tr style=\"text-align: right;\">\n",
       "      <th></th>\n",
       "      <th>predicted_2</th>\n",
       "      <th>error_2</th>\n",
       "    </tr>\n",
       "  </thead>\n",
       "  <tbody>\n",
       "    <tr>\n",
       "      <th>count</th>\n",
       "      <td>13306.000000</td>\n",
       "      <td>13306.000000</td>\n",
       "    </tr>\n",
       "    <tr>\n",
       "      <th>mean</th>\n",
       "      <td>1.272562</td>\n",
       "      <td>1.664520</td>\n",
       "    </tr>\n",
       "    <tr>\n",
       "      <th>std</th>\n",
       "      <td>0.767766</td>\n",
       "      <td>19.374132</td>\n",
       "    </tr>\n",
       "    <tr>\n",
       "      <th>min</th>\n",
       "      <td>-0.561920</td>\n",
       "      <td>0.000740</td>\n",
       "    </tr>\n",
       "    <tr>\n",
       "      <th>25%</th>\n",
       "      <td>0.721287</td>\n",
       "      <td>0.498003</td>\n",
       "    </tr>\n",
       "    <tr>\n",
       "      <th>50%</th>\n",
       "      <td>1.058047</td>\n",
       "      <td>1.011475</td>\n",
       "    </tr>\n",
       "    <tr>\n",
       "      <th>75%</th>\n",
       "      <td>1.786285</td>\n",
       "      <td>1.563001</td>\n",
       "    </tr>\n",
       "    <tr>\n",
       "      <th>max</th>\n",
       "      <td>3.759901</td>\n",
       "      <td>2092.230605</td>\n",
       "    </tr>\n",
       "  </tbody>\n",
       "</table>\n",
       "</div>"
      ],
      "text/plain": [
       "        predicted_2       error_2\n",
       "count  13306.000000  13306.000000\n",
       "mean       1.272562      1.664520\n",
       "std        0.767766     19.374132\n",
       "min       -0.561920      0.000740\n",
       "25%        0.721287      0.498003\n",
       "50%        1.058047      1.011475\n",
       "75%        1.786285      1.563001\n",
       "max        3.759901   2092.230605"
      ]
     },
     "execution_count": 47,
     "metadata": {},
     "output_type": "execute_result"
    }
   ],
   "source": [
    "test_set['predicted_2'] = helpfulness_predictor_2.predict(test_set)\n",
    "test_set['error_2'] = (test_set['helpful-count'] - test_set['predicted_2']).abs()\n",
    "test_set[['predicted_2', 'error_2']].describe()"
   ]
  },
  {
   "cell_type": "markdown",
   "metadata": {},
   "source": [
    "It seems not - if anything, it fares worse.\n",
    "\n",
    "At this point, it's pretty clear that the model is severely flawed.  Let's look at the R-squared score and mean absolute error across all of the data we used for the model, both test and training:"
   ]
  },
  {
   "cell_type": "code",
   "execution_count": 48,
   "metadata": {},
   "outputs": [
    {
     "name": "stdout",
     "output_type": "stream",
     "text": [
      "R-squared value is 0.0024443688810920072\n",
      "Mean absolute error is 1.6909454808153868\n"
     ]
    }
   ],
   "source": [
    "model_regression = helpfulness_predictor.params[0] + helpfulness_predictor.params[1] * model_data['x1'] + helpfulness_predictor.params[2] * model_data['x2'] + helpfulness_predictor.params[3] * model_data['x3'] + helpfulness_predictor.params[4] * model_data['x4'] + helpfulness_predictor.params[5] * model_data['x6']\n",
    "\n",
    "metrics.mean_absolute_error(model_data['helpful-count'], model_regression)\n",
    "metrics.r2_score(model_data['helpful-count'], model_regression)\n",
    "\n",
    "print(\"R-squared value is {}\".format(metrics.r2_score(model_data['helpful-count'], model_regression)))\n",
    "print(\"Mean absolute error is {}\".format(metrics.mean_absolute_error(model_data['helpful-count'], model_regression)))"
   ]
  },
  {
   "cell_type": "markdown",
   "metadata": {},
   "source": [
    "Not promising.\n",
    "\n",
    "Finally, because we have so many input variables I couldn't easily plot the least squares line of best fit itself, but let's at least visualize the predicted vs. actual values.  This proved to be pretty challenging due to the spikiness of the data."
   ]
  },
  {
   "cell_type": "code",
   "execution_count": 51,
   "metadata": {
    "scrolled": true
   },
   "outputs": [
    {
     "data": {
      "text/plain": [
       "<seaborn.axisgrid.PairGrid at 0x1a2d266320>"
      ]
     },
     "execution_count": 51,
     "metadata": {},
     "output_type": "execute_result"
    },
    {
     "data": {
      "image/png": "[encoded data removed]",
      "text/plain": [
       "<Figure size 360x360 with 6 Axes>"
      ]
     },
     "metadata": {
      "needs_background": "light"
     },
     "output_type": "display_data"
    }
   ],
   "source": [
    "test_set_sorted = test_set.sort_values('helpful-count')\n",
    "seaborn.pairplot(test_set_sorted[['helpful-count', 'predicted']])"
   ]
  },
  {
   "cell_type": "markdown",
   "metadata": {},
   "source": [
    "The above graph takes a moment to interpret, but at least hints at the lack of relationship between the predicted and actual values.  Many reviews where the helpful-count was in the hundreds had a predicted value in the single digits.\n",
    "\n",
    "A better way of visualizing this turned out to be a Seaborn pointplot of the actual and predicted helpfulness in each star category.  This shows the average value in each category, as well as the range, and reveals instances where the predicted values don't intersect at all with the actual values or have only very narrow overlap:"
   ]
  },
  {
   "cell_type": "code",
   "execution_count": 52,
   "metadata": {},
   "outputs": [
    {
     "name": "stderr",
     "output_type": "stream",
     "text": [
      "/Users/zoulvisia/anaconda3/lib/python3.7/site-packages/scipy/stats/stats.py:1713: FutureWarning: Using a non-tuple sequence for multidimensional indexing is deprecated; use `arr[tuple(seq)]` instead of `arr[seq]`. In the future this will be interpreted as an array index, `arr[np.array(seq)]`, which will result either in an error or a different result.\n",
      "  return np.add.reduce(sorted[indexer] * weights, axis=axis) / sumval\n"
     ]
    },
    {
     "data": {
      "text/plain": [
       "<matplotlib.legend.Legend at 0x1a303b8b00>"
      ]
     },
     "execution_count": 52,
     "metadata": {},
     "output_type": "execute_result"
    },
    {
     "data": {
      "image/png": "[encoded data removed]",
      "text/plain": [
       "<Figure size 432x288 with 1 Axes>"
      ]
     },
     "metadata": {
      "needs_background": "light"
     },
     "output_type": "display_data"
    }
   ],
   "source": [
    "import matplotlib.patches as mpatches\n",
    "\n",
    "fig, ax = plt.subplots()\n",
    "\n",
    "seaborn.pointplot(x=\"overall-ratings\", y=\"helpful-count\", data=test_set, ax=ax, color=\"blue\")\n",
    "seaborn.pointplot(x=\"overall-ratings\", y=\"predicted\", data=test_set, ax=ax, color=\"red\")\n",
    "\n",
    "ax.set(ylabel='Helpfulness')\n",
    "ax.set(xlabel='Stars')\n",
    "\n",
    "red_patch = mpatches.Patch(color='red', label='Predicted')\n",
    "blue_patch = mpatches.Patch(color='blue', label='Actual')\n",
    "plt.legend(handles=[blue_patch, red_patch])"
   ]
  },
  {
   "cell_type": "markdown",
   "metadata": {},
   "source": [
    "Interestingly, the average predicted helpfulness seems to go down quite linearly with the overall rating.\n",
    "\n",
    "All in all, I would **not** trust or recommend this model.  Let's see if textual analysis fares any better."
   ]
  },
  {
   "cell_type": "markdown",
   "metadata": {},
   "source": [
    "### Model 2: Linear Classification - TF-IDF\n",
    "\n",
    "Rather than trying to predict the exact helpfulness count of a review here, I decided to scale down the problem a bit and simply try and predict _whether or not it was considered helpful by more than one person_.  To do this, I added a boolean column to the data:"
   ]
  },
  {
   "cell_type": "code",
   "execution_count": 53,
   "metadata": {},
   "outputs": [],
   "source": [
    "data['helpful'] = data['helpful-count'] > 1\n",
    "X_train, X_test, y_train, y_test = model_selection.train_test_split(data[['pros', 'cons', 'advice-to-mgmt', 'helpful-count']], data['helpful'])"
   ]
  },
  {
   "cell_type": "markdown",
   "metadata": {},
   "source": [
    "From here, it's pretty easy to set up a TF-IDF analysis on each of the text columns (pros, cons, advice) and use it to try and predict whether or not a review can be classed as \"helpful\".  I decided to compare Multinomial Naive Bayes, as seen in class, and Logistic Regression."
   ]
  },
  {
   "cell_type": "markdown",
   "metadata": {},
   "source": [
    "#### Model Setup - Multinomial Naive Bayes"
   ]
  },
  {
   "cell_type": "code",
   "execution_count": 54,
   "metadata": {},
   "outputs": [],
   "source": [
    "from sklearn.feature_extraction import text\n",
    "from sklearn.naive_bayes import MultinomialNB\n",
    "from sklearn.feature_extraction.text import TfidfTransformer"
   ]
  },
  {
   "cell_type": "code",
   "execution_count": 55,
   "metadata": {
    "scrolled": false
   },
   "outputs": [],
   "source": [
    "pros_unicode = X_train['pros'].values.astype('U')\n",
    "tfidf_pros = text.TfidfVectorizer(stop_words=\"english\")\n",
    "tfidf_pros.fit(pros_unicode)\n",
    "analyzed_pros = tfidf_pros.transform(pros_unicode)\n",
    "analyzed_pros_test = tfidf_pros.transform(X_test['pros'].values.astype('U'))"
   ]
  },
  {
   "cell_type": "code",
   "execution_count": 56,
   "metadata": {},
   "outputs": [],
   "source": [
    "cons_unicode = X_train['cons'].values.astype('U')\n",
    "tfidf_cons = text.TfidfVectorizer(stop_words=\"english\")\n",
    "tfidf_cons.fit(cons_unicode)\n",
    "analyzed_cons = tfidf_cons.transform(cons_unicode)\n",
    "analyzed_cons_test = tfidf_cons.transform(X_test['cons'].values.astype('U'))"
   ]
  },
  {
   "cell_type": "code",
   "execution_count": 57,
   "metadata": {},
   "outputs": [],
   "source": [
    "advice_unicode = X_train['advice-to-mgmt'].values.astype('U')\n",
    "tfidf_advice = text.CountVectorizer(stop_words=\"english\")\n",
    "tfidf_advice.fit(advice_unicode)\n",
    "analyzed_advice = tfidf_advice.transform(advice_unicode)\n",
    "analyzed_advice_test = tfidf_advice.transform(X_test['advice-to-mgmt'].values.astype('U'))"
   ]
  },
  {
   "cell_type": "code",
   "execution_count": 58,
   "metadata": {
    "scrolled": true
   },
   "outputs": [
    {
     "data": {
      "text/plain": [
       "MultinomialNB(alpha=1.0, class_prior=None, fit_prior=True)"
      ]
     },
     "execution_count": 58,
     "metadata": {},
     "output_type": "execute_result"
    }
   ],
   "source": [
    "multinomial_nb_pros = MultinomialNB()\n",
    "multinomial_nb_pros.fit(analyzed_pros, y_train)\n",
    "\n",
    "multinomial_nb_cons = MultinomialNB()\n",
    "multinomial_nb_cons.fit(analyzed_cons, y_train)\n",
    "\n",
    "multinomial_nb_advice = MultinomialNB()\n",
    "multinomial_nb_advice.fit(analyzed_advice, y_train)"
   ]
  },
  {
   "cell_type": "markdown",
   "metadata": {},
   "source": [
    "#### Model Validation & Analysis - Naive Bayes\n",
    "\n",
    "Let's see how the model scores for each text column:"
   ]
  },
  {
   "cell_type": "code",
   "execution_count": 59,
   "metadata": {},
   "outputs": [
    {
     "name": "stdout",
     "output_type": "stream",
     "text": [
      "Score on the test set was 0.8301149152943964, score on the training set was 0.8188118225433868 for prediction based on pros\n"
     ]
    }
   ],
   "source": [
    "training_score = multinomial_nb_pros.score(analyzed_pros, y_train)\n",
    "test_score = multinomial_nb_pros.score(analyzed_pros_test, y_test)\n",
    "\n",
    "print(\"Score on the test set was {}, score on the training set was {} for prediction based on pros\".format(training_score, test_score))"
   ]
  },
  {
   "cell_type": "code",
   "execution_count": 60,
   "metadata": {
    "scrolled": true
   },
   "outputs": [
    {
     "name": "stdout",
     "output_type": "stream",
     "text": [
      "Score on the test set was 0.8293251194566205, score on the training set was 0.8192856719777291 for prediction based on cons\n"
     ]
    }
   ],
   "source": [
    "training_score = multinomial_nb_cons.score(analyzed_cons, y_train)\n",
    "test_score = multinomial_nb_cons.score(analyzed_cons_test, y_test)\n",
    "\n",
    "print(\"Score on the test set was {}, score on the training set was {} for prediction based on cons\".format(training_score, test_score))"
   ]
  },
  {
   "cell_type": "code",
   "execution_count": 61,
   "metadata": {},
   "outputs": [
    {
     "name": "stdout",
     "output_type": "stream",
     "text": [
      "Score on the test set was 0.8606800142163251, score on the training set was 0.8220695374044897 for prediction based on advice\n"
     ]
    }
   ],
   "source": [
    "training_score = multinomial_nb_advice.score(analyzed_advice, y_train)\n",
    "test_score = multinomial_nb_advice.score(analyzed_advice_test, y_test)\n",
    "\n",
    "print(\"Score on the test set was {}, score on the training set was {} for prediction based on advice\".format(training_score, test_score))"
   ]
  },
  {
   "cell_type": "markdown",
   "metadata": {},
   "source": [
    "The scores look pretty good on both the test and training set!  But let's also run a few examples, just narrowing down to advice for brevity's sake:"
   ]
  },
  {
   "cell_type": "code",
   "execution_count": 62,
   "metadata": {},
   "outputs": [
    {
     "data": {
      "text/plain": [
       "array([[0.82003079, 0.17996921],\n",
       "       [0.78784834, 0.21215166],\n",
       "       [0.94910941, 0.05089059]])"
      ]
     },
     "execution_count": 62,
     "metadata": {},
     "output_type": "execute_result"
    }
   ],
   "source": [
    "nonsense = \"twas brillig and the slithy toves did gyre and gimble in the wabe\"\n",
    "unhelpful = \"Management, you all suck!\"\n",
    "helpful = \"Don't make promises you can't keep, let your employees know they're valued, and increase compensation to market rates\"\n",
    "\n",
    "analyzed_examples = tfidf_advice.transform([nonsense, unhelpful, helpful])\n",
    "multinomial_nb_advice.predict_proba(analyzed_examples)"
   ]
  },
  {
   "cell_type": "markdown",
   "metadata": {},
   "source": [
    "Here, unfortunately, the model shows some cracks - it rates the nonsense quote from Jabberwocky by Lewis Carrol as having almost the same probability of being helpful as the aggressively unhelpful review, and rates the actually-helpful text dramatically lower than both of the others!\n",
    "\n",
    "Does logistic regression fall victim to the same issue?"
   ]
  },
  {
   "cell_type": "markdown",
   "metadata": {},
   "source": [
    "#### Model Setup - Logistic Regression"
   ]
  },
  {
   "cell_type": "code",
   "execution_count": 63,
   "metadata": {},
   "outputs": [
    {
     "data": {
      "text/plain": [
       "LogisticRegression(C=1.0, class_weight=None, dual=False, fit_intercept=True,\n",
       "          intercept_scaling=1, max_iter=100, multi_class='warn',\n",
       "          n_jobs=None, penalty='l2', random_state=None, solver='liblinear',\n",
       "          tol=0.0001, verbose=0, warm_start=False)"
      ]
     },
     "execution_count": 63,
     "metadata": {},
     "output_type": "execute_result"
    }
   ],
   "source": [
    "from sklearn import linear_model\n",
    "helpfulness_model_pros = linear_model.LogisticRegression(solver='liblinear')\n",
    "helpfulness_model_pros.fit(analyzed_pros, y_train)\n",
    "\n",
    "helpfulness_model_cons = linear_model.LogisticRegression(solver='liblinear')\n",
    "helpfulness_model_cons.fit(analyzed_cons, y_train)\n",
    "\n",
    "helpfulness_model_advice = linear_model.LogisticRegression(solver='liblinear')\n",
    "helpfulness_model_advice.fit(analyzed_advice, y_train)"
   ]
  },
  {
   "cell_type": "markdown",
   "metadata": {},
   "source": [
    "#### Model Validation & Analysis - Logistic Regression\n",
    "\n",
    "We check the model score for pros, cons, and advice:"
   ]
  },
  {
   "cell_type": "code",
   "execution_count": 64,
   "metadata": {},
   "outputs": [
    {
     "data": {
      "text/plain": [
       "0.8239649351418586"
      ]
     },
     "execution_count": 64,
     "metadata": {},
     "output_type": "execute_result"
    }
   ],
   "source": [
    "helpfulness_model_pros.score(analyzed_pros_test, y_test)"
   ]
  },
  {
   "cell_type": "code",
   "execution_count": 65,
   "metadata": {},
   "outputs": [
    {
     "data": {
      "text/plain": [
       "0.8404312029852514"
      ]
     },
     "execution_count": 65,
     "metadata": {},
     "output_type": "execute_result"
    }
   ],
   "source": [
    "helpfulness_model_cons.score(analyzed_cons_test, y_test)"
   ]
  },
  {
   "cell_type": "code",
   "execution_count": 66,
   "metadata": {
    "scrolled": false
   },
   "outputs": [
    {
     "data": {
      "text/plain": [
       "0.8199372149499496"
      ]
     },
     "execution_count": 66,
     "metadata": {},
     "output_type": "execute_result"
    }
   ],
   "source": [
    "helpfulness_model_advice.score(analyzed_advice_test, y_test)"
   ]
  },
  {
   "cell_type": "code",
   "execution_count": 67,
   "metadata": {},
   "outputs": [
    {
     "data": {
      "text/plain": [
       "array([[0.87663044, 0.12336956],\n",
       "       [0.76003536, 0.23996464],\n",
       "       [0.79689799, 0.20310201]])"
      ]
     },
     "execution_count": 67,
     "metadata": {},
     "output_type": "execute_result"
    }
   ],
   "source": [
    "helpfulness_model_advice.predict_proba(analyzed_examples)"
   ]
  },
  {
   "cell_type": "markdown",
   "metadata": {},
   "source": [
    "In this toy spot-check example, logistic regression at least rates the nonsense Jabberwocky example lower than the other two, but again can't seem to differentiate too well between the unhelpful and helpful examples (and would reject the helpful example as \"unhelpful\")."
   ]
  },
  {
   "cell_type": "markdown",
   "metadata": {},
   "source": [
    "## 6. Conclusions"
   ]
  },
  {
   "cell_type": "markdown",
   "metadata": {},
   "source": [
    "Honestly, all of the models I evaluated left me with significant doubt in their ability to accurately predict the helpfulness of reviews out in the wild.  Classification based on analysis clearly fared much better than linear regression based on star ratings, so if I had to pick one I would go with that.  However, the textual analysis bombed on the on-the-spot examples I dreamed up.\n",
    "\n",
    "Admittedly, this doesn't mean that the textual analysis models would perform poorly on a large scale (their performance on the test set, in fact, suggests the opposite), but still, rating the first line of the Jabberwocky as more likely to be helpful advice than \"Don't make promises you can't keep, let your employees know they're valued, and increase compensation to market rates\" doesn't inspire much confidence.  Perhaps there are other relationships in this dataset that would yield more accurate results - or, perhaps, the helpfulness of a Glassdoor review is determined by more subjective, alchemical factors."
   ]
  }
 ],
 "metadata": {
  "kernelspec": {
   "display_name": "Python 3",
   "language": "python",
   "name": "python3"
  },
  "language_info": {
   "codemirror_mode": {
    "name": "ipython",
    "version": 3
   },
   "file_extension": ".py",
   "mimetype": "text/x-python",
   "name": "python",
   "nbconvert_exporter": "python",
   "pygments_lexer": "ipython3",
   "version": "3.7.1"
  }
 },
 "nbformat": 4,
 "nbformat_minor": 2
}
